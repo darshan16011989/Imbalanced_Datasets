{
  "cells": [
    {
      "cell_type": "code",
      "execution_count": null,
      "metadata": {
        "id": "-WNxK838C_yH",
        "outputId": "ad8339e2-068f-45af-ad46-a9b4c6267060",
        "colab": {
          "base_uri": "https://localhost:8080/"
        }
      },
      "outputs": [
        {
          "output_type": "stream",
          "name": "stdout",
          "text": [
            "Numpy version 1.21.6\n",
            "Pandas version 1.3.5\n",
            "Seaborn version 0.11.2\n"
          ]
        }
      ],
      "source": [
        "#importing necessary libraries\n",
        "import numpy as np\n",
        "import pandas as pd\n",
        "import seaborn as sns\n",
        "#sns.set(color_codes = True)\n",
        "import matplotlib.pyplot as plt\n",
        "%matplotlib inline\n",
        "import math\n",
        "from IPython.display import display\n",
        "from sklearn.utils import resample\n",
        "from sklearn.metrics import roc_auc_score,roc_curve,classification_report,confusion_matrix\n",
        "from sklearn.ensemble import RandomForestClassifier\n",
        "from sklearn import metrics\n",
        "from sklearn.model_selection import StratifiedKFold, cross_val_score, GridSearchCV\n",
        "from imblearn.datasets import make_imbalance\n",
        "from sklearn.preprocessing import StandardScaler, MinMaxScaler\n",
        "from sklearn.cluster import KMeans\n",
        "from sklearn.model_selection import train_test_split\n",
        "from sklearn.metrics import silhouette_samples, silhouette_score\n",
        "from scipy.stats import zscore\n",
        "import warnings\n",
        "warnings.filterwarnings(\"ignore\")\n",
        "print('Numpy version', np.__version__)\n",
        "print('Pandas version', pd.__version__)\n",
        "print('Seaborn version',sns.__version__)"
      ]
    },
    {
      "cell_type": "code",
      "execution_count": null,
      "metadata": {
        "id": "u38pckkmC_yK"
      },
      "outputs": [],
      "source": [
        "# Heart Failure Prediction dataset\n",
        "df_heart = pd.read_csv('heart.csv')"
      ]
    },
    {
      "cell_type": "code",
      "execution_count": null,
      "metadata": {
        "id": "xcPx8OzuC_yK"
      },
      "outputs": [],
      "source": [
        "# to display all columns in the dataset\n",
        "pd.options.display.max_columns = None"
      ]
    },
    {
      "cell_type": "code",
      "execution_count": null,
      "metadata": {
        "id": "d7JfCZlVC_yL"
      },
      "outputs": [],
      "source": [
        "# Function to detect missing values and duplicate records\n",
        "\n",
        "def missing_duplicates(col):\n",
        "    if col.isnull().sum().sum() == 0:\n",
        "        print('There are no missing values in the dataset')\n",
        "    else:\n",
        "        print('There are missing values in the dataset')\n",
        "        \n",
        "    count = 0\n",
        "    for count in col.columns:\n",
        "        if col[count].isnull().sum() != 0:\n",
        "            print('There are {} missing values in the feature: '.format(col[count].isnull().sum()),count)\n",
        "            print('Percentage of missing values in the feature:',round(col[count].isnull().sum()/col.shape[0] * 100,3),'%')\n",
        "            print('Percentage of missing values in total data points:',round(col[count].isnull().sum()/(col.shape[0]*col.shape[1]) * 100,3),'%')\n",
        "            \n",
        "    if col.duplicated().sum() == 0:\n",
        "        print('There are no duplicate records found in the dataset')\n",
        "    else:\n",
        "        print('There are duplicate rows found in the dataset.','\\nTotal duplicate rows:', col.duplicated.sum())"
      ]
    },
    {
      "cell_type": "code",
      "execution_count": null,
      "metadata": {
        "id": "QzcDi8trC_yL"
      },
      "outputs": [],
      "source": [
        "# Function to check balance of the target variable and countplot\n",
        "def balance_ratio(col):\n",
        "    print('Balance ratio of variable in Percentage')\n",
        "    print(round(col.value_counts(normalize=True) * 100,2))\n",
        "    print('')\n",
        "    sns.countplot(col)\n",
        "    plt.title('Count plot')\n",
        "    plt.show()"
      ]
    },
    {
      "cell_type": "code",
      "execution_count": null,
      "metadata": {
        "id": "ytl0pW2NC_yM"
      },
      "outputs": [],
      "source": [
        "# Fuctions to plot the graphs for countplot, histograms and boxplot\n",
        "\n",
        "# Function to plot the graph of countplots\n",
        "def countplots(col,figsize_len,figsize_wid,column):\n",
        "    col = col.select_dtypes(include=['object'])\n",
        "    plt.figure(figsize=(figsize_len,figsize_wid))\n",
        "    a,b,c = math.ceil(col.shape[1]/column),column,1\n",
        "    i = 0\n",
        "    for i in col.columns:\n",
        "        if col[i].dtype == 'object':\n",
        "            plt.subplot(a,b,c)\n",
        "            sns.countplot(x=col[i])\n",
        "            c = c + 1\n",
        "    plt.show()\n",
        "    return\n",
        "\n",
        "# Function to plot the graph of Histograms\n",
        "def histogram(col,figsize_len,figsize_wid,column):\n",
        "    col = col.select_dtypes(exclude='object')\n",
        "    plt.figure(figsize=(figsize_len,figsize_wid))\n",
        "    a,b,c = math.ceil(col.shape[1]/column),column,1\n",
        "    i = 0\n",
        "    for i in col.columns:\n",
        "        if col[i].dtype != 'object':\n",
        "            plt.subplot(a,b,c)\n",
        "            sns.distplot(col[i])\n",
        "            c = c + 1\n",
        "    plt.show()\n",
        "    return\n",
        "\n",
        "# Function to plot the graph of boxplots\n",
        "def boxplots(col,figsize_len,figsize_wid,column):\n",
        "    col = col.select_dtypes(exclude='object')\n",
        "    plt.figure(figsize=(figsize_len,figsize_wid))\n",
        "    a,b,c = math.ceil(col.shape[1]/column),column,1\n",
        "    i = 0\n",
        "    for i in col.columns:\n",
        "        if col[i].dtype != 'object':\n",
        "            plt.subplot(a,b,c)\n",
        "            sns.boxplot(col[i])\n",
        "            c = c + 1\n",
        "    plt.show()\n",
        "    return"
      ]
    },
    {
      "cell_type": "code",
      "execution_count": null,
      "metadata": {
        "id": "U9n4AmyJC_yN"
      },
      "outputs": [],
      "source": [
        "# Function to create data imbalance\n",
        "def create_imbalance(df,target_index,Perc):\n",
        "    data = df.copy()\n",
        "    \n",
        "    # seperating independent and dependent variables\n",
        "    X = data.drop(data.columns[target_index],axis=1)\n",
        "    y = data.iloc[:,target_index]\n",
        "    \n",
        "    # creating imbalance from given percentage\n",
        "    ratio1 = int(y.value_counts().sort_values(ascending=False)[0] * (Perc/100))\n",
        "    ratio2 = int(y.value_counts().sort_values(ascending=False)[0]) - ratio1\n",
        "    label1 = data.iloc[:,target_index].value_counts().sort_values(ascending=False).index[0]\n",
        "    label2 = data.iloc[:,target_index].value_counts().sort_values(ascending=False).index[1]\n",
        "    \n",
        "    #making imbalance\n",
        "    X_res, y_res = make_imbalance(X, y, sampling_strategy={label1:ratio1, label2:ratio2}, random_state=1)\n",
        "    target_variable = data.columns[target_index]\n",
        "    X_res[target_variable] = y_res\n",
        "    \n",
        "    return X_res"
      ]
    },
    {
      "cell_type": "markdown",
      "metadata": {
        "id": "N20Mf_b8C_yN"
      },
      "source": [
        "# Heart Failure Prediction dataset"
      ]
    },
    {
      "cell_type": "code",
      "execution_count": null,
      "metadata": {
        "id": "Bb1E-JBjC_yO",
        "outputId": "df6110f1-294e-4840-d55b-ccd7177ad060",
        "colab": {
          "base_uri": "https://localhost:8080/",
          "height": 206
        }
      },
      "outputs": [
        {
          "output_type": "execute_result",
          "data": {
            "text/plain": [
              "   Age Sex ChestPainType  RestingBP  Cholesterol  FastingBS RestingECG  MaxHR  \\\n",
              "0   40   M           ATA        140          289          0     Normal    172   \n",
              "1   49   F           NAP        160          180          0     Normal    156   \n",
              "2   37   M           ATA        130          283          0         ST     98   \n",
              "3   48   F           ASY        138          214          0     Normal    108   \n",
              "4   54   M           NAP        150          195          0     Normal    122   \n",
              "\n",
              "  ExerciseAngina  Oldpeak ST_Slope  HeartDisease  \n",
              "0              N      0.0       Up             0  \n",
              "1              N      1.0     Flat             1  \n",
              "2              N      0.0       Up             0  \n",
              "3              Y      1.5     Flat             1  \n",
              "4              N      0.0       Up             0  "
            ],
            "text/html": [
              "\n",
              "  <div id=\"df-e82baedf-daa1-4567-bae1-20d11f224b0a\">\n",
              "    <div class=\"colab-df-container\">\n",
              "      <div>\n",
              "<style scoped>\n",
              "    .dataframe tbody tr th:only-of-type {\n",
              "        vertical-align: middle;\n",
              "    }\n",
              "\n",
              "    .dataframe tbody tr th {\n",
              "        vertical-align: top;\n",
              "    }\n",
              "\n",
              "    .dataframe thead th {\n",
              "        text-align: right;\n",
              "    }\n",
              "</style>\n",
              "<table border=\"1\" class=\"dataframe\">\n",
              "  <thead>\n",
              "    <tr style=\"text-align: right;\">\n",
              "      <th></th>\n",
              "      <th>Age</th>\n",
              "      <th>Sex</th>\n",
              "      <th>ChestPainType</th>\n",
              "      <th>RestingBP</th>\n",
              "      <th>Cholesterol</th>\n",
              "      <th>FastingBS</th>\n",
              "      <th>RestingECG</th>\n",
              "      <th>MaxHR</th>\n",
              "      <th>ExerciseAngina</th>\n",
              "      <th>Oldpeak</th>\n",
              "      <th>ST_Slope</th>\n",
              "      <th>HeartDisease</th>\n",
              "    </tr>\n",
              "  </thead>\n",
              "  <tbody>\n",
              "    <tr>\n",
              "      <th>0</th>\n",
              "      <td>40</td>\n",
              "      <td>M</td>\n",
              "      <td>ATA</td>\n",
              "      <td>140</td>\n",
              "      <td>289</td>\n",
              "      <td>0</td>\n",
              "      <td>Normal</td>\n",
              "      <td>172</td>\n",
              "      <td>N</td>\n",
              "      <td>0.0</td>\n",
              "      <td>Up</td>\n",
              "      <td>0</td>\n",
              "    </tr>\n",
              "    <tr>\n",
              "      <th>1</th>\n",
              "      <td>49</td>\n",
              "      <td>F</td>\n",
              "      <td>NAP</td>\n",
              "      <td>160</td>\n",
              "      <td>180</td>\n",
              "      <td>0</td>\n",
              "      <td>Normal</td>\n",
              "      <td>156</td>\n",
              "      <td>N</td>\n",
              "      <td>1.0</td>\n",
              "      <td>Flat</td>\n",
              "      <td>1</td>\n",
              "    </tr>\n",
              "    <tr>\n",
              "      <th>2</th>\n",
              "      <td>37</td>\n",
              "      <td>M</td>\n",
              "      <td>ATA</td>\n",
              "      <td>130</td>\n",
              "      <td>283</td>\n",
              "      <td>0</td>\n",
              "      <td>ST</td>\n",
              "      <td>98</td>\n",
              "      <td>N</td>\n",
              "      <td>0.0</td>\n",
              "      <td>Up</td>\n",
              "      <td>0</td>\n",
              "    </tr>\n",
              "    <tr>\n",
              "      <th>3</th>\n",
              "      <td>48</td>\n",
              "      <td>F</td>\n",
              "      <td>ASY</td>\n",
              "      <td>138</td>\n",
              "      <td>214</td>\n",
              "      <td>0</td>\n",
              "      <td>Normal</td>\n",
              "      <td>108</td>\n",
              "      <td>Y</td>\n",
              "      <td>1.5</td>\n",
              "      <td>Flat</td>\n",
              "      <td>1</td>\n",
              "    </tr>\n",
              "    <tr>\n",
              "      <th>4</th>\n",
              "      <td>54</td>\n",
              "      <td>M</td>\n",
              "      <td>NAP</td>\n",
              "      <td>150</td>\n",
              "      <td>195</td>\n",
              "      <td>0</td>\n",
              "      <td>Normal</td>\n",
              "      <td>122</td>\n",
              "      <td>N</td>\n",
              "      <td>0.0</td>\n",
              "      <td>Up</td>\n",
              "      <td>0</td>\n",
              "    </tr>\n",
              "  </tbody>\n",
              "</table>\n",
              "</div>\n",
              "      <button class=\"colab-df-convert\" onclick=\"convertToInteractive('df-e82baedf-daa1-4567-bae1-20d11f224b0a')\"\n",
              "              title=\"Convert this dataframe to an interactive table.\"\n",
              "              style=\"display:none;\">\n",
              "        \n",
              "  <svg xmlns=\"http://www.w3.org/2000/svg\" height=\"24px\"viewBox=\"0 0 24 24\"\n",
              "       width=\"24px\">\n",
              "    <path d=\"M0 0h24v24H0V0z\" fill=\"none\"/>\n",
              "    <path d=\"M18.56 5.44l.94 2.06.94-2.06 2.06-.94-2.06-.94-.94-2.06-.94 2.06-2.06.94zm-11 1L8.5 8.5l.94-2.06 2.06-.94-2.06-.94L8.5 2.5l-.94 2.06-2.06.94zm10 10l.94 2.06.94-2.06 2.06-.94-2.06-.94-.94-2.06-.94 2.06-2.06.94z\"/><path d=\"M17.41 7.96l-1.37-1.37c-.4-.4-.92-.59-1.43-.59-.52 0-1.04.2-1.43.59L10.3 9.45l-7.72 7.72c-.78.78-.78 2.05 0 2.83L4 21.41c.39.39.9.59 1.41.59.51 0 1.02-.2 1.41-.59l7.78-7.78 2.81-2.81c.8-.78.8-2.07 0-2.86zM5.41 20L4 18.59l7.72-7.72 1.47 1.35L5.41 20z\"/>\n",
              "  </svg>\n",
              "      </button>\n",
              "      \n",
              "  <style>\n",
              "    .colab-df-container {\n",
              "      display:flex;\n",
              "      flex-wrap:wrap;\n",
              "      gap: 12px;\n",
              "    }\n",
              "\n",
              "    .colab-df-convert {\n",
              "      background-color: #E8F0FE;\n",
              "      border: none;\n",
              "      border-radius: 50%;\n",
              "      cursor: pointer;\n",
              "      display: none;\n",
              "      fill: #1967D2;\n",
              "      height: 32px;\n",
              "      padding: 0 0 0 0;\n",
              "      width: 32px;\n",
              "    }\n",
              "\n",
              "    .colab-df-convert:hover {\n",
              "      background-color: #E2EBFA;\n",
              "      box-shadow: 0px 1px 2px rgba(60, 64, 67, 0.3), 0px 1px 3px 1px rgba(60, 64, 67, 0.15);\n",
              "      fill: #174EA6;\n",
              "    }\n",
              "\n",
              "    [theme=dark] .colab-df-convert {\n",
              "      background-color: #3B4455;\n",
              "      fill: #D2E3FC;\n",
              "    }\n",
              "\n",
              "    [theme=dark] .colab-df-convert:hover {\n",
              "      background-color: #434B5C;\n",
              "      box-shadow: 0px 1px 3px 1px rgba(0, 0, 0, 0.15);\n",
              "      filter: drop-shadow(0px 1px 2px rgba(0, 0, 0, 0.3));\n",
              "      fill: #FFFFFF;\n",
              "    }\n",
              "  </style>\n",
              "\n",
              "      <script>\n",
              "        const buttonEl =\n",
              "          document.querySelector('#df-e82baedf-daa1-4567-bae1-20d11f224b0a button.colab-df-convert');\n",
              "        buttonEl.style.display =\n",
              "          google.colab.kernel.accessAllowed ? 'block' : 'none';\n",
              "\n",
              "        async function convertToInteractive(key) {\n",
              "          const element = document.querySelector('#df-e82baedf-daa1-4567-bae1-20d11f224b0a');\n",
              "          const dataTable =\n",
              "            await google.colab.kernel.invokeFunction('convertToInteractive',\n",
              "                                                     [key], {});\n",
              "          if (!dataTable) return;\n",
              "\n",
              "          const docLinkHtml = 'Like what you see? Visit the ' +\n",
              "            '<a target=\"_blank\" href=https://colab.research.google.com/notebooks/data_table.ipynb>data table notebook</a>'\n",
              "            + ' to learn more about interactive tables.';\n",
              "          element.innerHTML = '';\n",
              "          dataTable['output_type'] = 'display_data';\n",
              "          await google.colab.output.renderOutput(dataTable, element);\n",
              "          const docLink = document.createElement('div');\n",
              "          docLink.innerHTML = docLinkHtml;\n",
              "          element.appendChild(docLink);\n",
              "        }\n",
              "      </script>\n",
              "    </div>\n",
              "  </div>\n",
              "  "
            ]
          },
          "metadata": {},
          "execution_count": 9
        }
      ],
      "source": [
        "# now lets exlore the heart failure dataset\n",
        "\n",
        "# checking the top 5 rows of the data\n",
        "df_heart.head()"
      ]
    },
    {
      "cell_type": "code",
      "execution_count": null,
      "metadata": {
        "id": "RT8abVUCC_yP",
        "outputId": "fd3cae0e-79fe-46b2-b30f-01b8233b7f16",
        "colab": {
          "base_uri": "https://localhost:8080/"
        }
      },
      "outputs": [
        {
          "output_type": "stream",
          "name": "stdout",
          "text": [
            "<class 'pandas.core.frame.DataFrame'>\n",
            "RangeIndex: 918 entries, 0 to 917\n",
            "Data columns (total 12 columns):\n",
            " #   Column          Non-Null Count  Dtype  \n",
            "---  ------          --------------  -----  \n",
            " 0   Age             918 non-null    int64  \n",
            " 1   Sex             918 non-null    object \n",
            " 2   ChestPainType   918 non-null    object \n",
            " 3   RestingBP       918 non-null    int64  \n",
            " 4   Cholesterol     918 non-null    int64  \n",
            " 5   FastingBS       918 non-null    int64  \n",
            " 6   RestingECG      918 non-null    object \n",
            " 7   MaxHR           918 non-null    int64  \n",
            " 8   ExerciseAngina  918 non-null    object \n",
            " 9   Oldpeak         918 non-null    float64\n",
            " 10  ST_Slope        918 non-null    object \n",
            " 11  HeartDisease    918 non-null    int64  \n",
            "dtypes: float64(1), int64(6), object(5)\n",
            "memory usage: 86.2+ KB\n"
          ]
        }
      ],
      "source": [
        "# information of the data\n",
        "df_heart.info()"
      ]
    },
    {
      "cell_type": "code",
      "execution_count": null,
      "metadata": {
        "id": "2TwBloYHC_yQ",
        "outputId": "a8ce8dc4-7cd5-4467-8c27-25e1ca07429c",
        "colab": {
          "base_uri": "https://localhost:8080/",
          "height": 269
        }
      },
      "outputs": [
        {
          "output_type": "execute_result",
          "data": {
            "text/plain": [
              "              count        mean         std   min     25%    50%    75%    max\n",
              "Age           918.0   53.510893    9.432617  28.0   47.00   54.0   60.0   77.0\n",
              "RestingBP     918.0  132.396514   18.514154   0.0  120.00  130.0  140.0  200.0\n",
              "Cholesterol   918.0  198.799564  109.384145   0.0  173.25  223.0  267.0  603.0\n",
              "FastingBS     918.0    0.233115    0.423046   0.0    0.00    0.0    0.0    1.0\n",
              "MaxHR         918.0  136.809368   25.460334  60.0  120.00  138.0  156.0  202.0\n",
              "Oldpeak       918.0    0.887364    1.066570  -2.6    0.00    0.6    1.5    6.2\n",
              "HeartDisease  918.0    0.553377    0.497414   0.0    0.00    1.0    1.0    1.0"
            ],
            "text/html": [
              "\n",
              "  <div id=\"df-89a60f2f-08f2-4c65-b0d7-4a775f8d480f\">\n",
              "    <div class=\"colab-df-container\">\n",
              "      <div>\n",
              "<style scoped>\n",
              "    .dataframe tbody tr th:only-of-type {\n",
              "        vertical-align: middle;\n",
              "    }\n",
              "\n",
              "    .dataframe tbody tr th {\n",
              "        vertical-align: top;\n",
              "    }\n",
              "\n",
              "    .dataframe thead th {\n",
              "        text-align: right;\n",
              "    }\n",
              "</style>\n",
              "<table border=\"1\" class=\"dataframe\">\n",
              "  <thead>\n",
              "    <tr style=\"text-align: right;\">\n",
              "      <th></th>\n",
              "      <th>count</th>\n",
              "      <th>mean</th>\n",
              "      <th>std</th>\n",
              "      <th>min</th>\n",
              "      <th>25%</th>\n",
              "      <th>50%</th>\n",
              "      <th>75%</th>\n",
              "      <th>max</th>\n",
              "    </tr>\n",
              "  </thead>\n",
              "  <tbody>\n",
              "    <tr>\n",
              "      <th>Age</th>\n",
              "      <td>918.0</td>\n",
              "      <td>53.510893</td>\n",
              "      <td>9.432617</td>\n",
              "      <td>28.0</td>\n",
              "      <td>47.00</td>\n",
              "      <td>54.0</td>\n",
              "      <td>60.0</td>\n",
              "      <td>77.0</td>\n",
              "    </tr>\n",
              "    <tr>\n",
              "      <th>RestingBP</th>\n",
              "      <td>918.0</td>\n",
              "      <td>132.396514</td>\n",
              "      <td>18.514154</td>\n",
              "      <td>0.0</td>\n",
              "      <td>120.00</td>\n",
              "      <td>130.0</td>\n",
              "      <td>140.0</td>\n",
              "      <td>200.0</td>\n",
              "    </tr>\n",
              "    <tr>\n",
              "      <th>Cholesterol</th>\n",
              "      <td>918.0</td>\n",
              "      <td>198.799564</td>\n",
              "      <td>109.384145</td>\n",
              "      <td>0.0</td>\n",
              "      <td>173.25</td>\n",
              "      <td>223.0</td>\n",
              "      <td>267.0</td>\n",
              "      <td>603.0</td>\n",
              "    </tr>\n",
              "    <tr>\n",
              "      <th>FastingBS</th>\n",
              "      <td>918.0</td>\n",
              "      <td>0.233115</td>\n",
              "      <td>0.423046</td>\n",
              "      <td>0.0</td>\n",
              "      <td>0.00</td>\n",
              "      <td>0.0</td>\n",
              "      <td>0.0</td>\n",
              "      <td>1.0</td>\n",
              "    </tr>\n",
              "    <tr>\n",
              "      <th>MaxHR</th>\n",
              "      <td>918.0</td>\n",
              "      <td>136.809368</td>\n",
              "      <td>25.460334</td>\n",
              "      <td>60.0</td>\n",
              "      <td>120.00</td>\n",
              "      <td>138.0</td>\n",
              "      <td>156.0</td>\n",
              "      <td>202.0</td>\n",
              "    </tr>\n",
              "    <tr>\n",
              "      <th>Oldpeak</th>\n",
              "      <td>918.0</td>\n",
              "      <td>0.887364</td>\n",
              "      <td>1.066570</td>\n",
              "      <td>-2.6</td>\n",
              "      <td>0.00</td>\n",
              "      <td>0.6</td>\n",
              "      <td>1.5</td>\n",
              "      <td>6.2</td>\n",
              "    </tr>\n",
              "    <tr>\n",
              "      <th>HeartDisease</th>\n",
              "      <td>918.0</td>\n",
              "      <td>0.553377</td>\n",
              "      <td>0.497414</td>\n",
              "      <td>0.0</td>\n",
              "      <td>0.00</td>\n",
              "      <td>1.0</td>\n",
              "      <td>1.0</td>\n",
              "      <td>1.0</td>\n",
              "    </tr>\n",
              "  </tbody>\n",
              "</table>\n",
              "</div>\n",
              "      <button class=\"colab-df-convert\" onclick=\"convertToInteractive('df-89a60f2f-08f2-4c65-b0d7-4a775f8d480f')\"\n",
              "              title=\"Convert this dataframe to an interactive table.\"\n",
              "              style=\"display:none;\">\n",
              "        \n",
              "  <svg xmlns=\"http://www.w3.org/2000/svg\" height=\"24px\"viewBox=\"0 0 24 24\"\n",
              "       width=\"24px\">\n",
              "    <path d=\"M0 0h24v24H0V0z\" fill=\"none\"/>\n",
              "    <path d=\"M18.56 5.44l.94 2.06.94-2.06 2.06-.94-2.06-.94-.94-2.06-.94 2.06-2.06.94zm-11 1L8.5 8.5l.94-2.06 2.06-.94-2.06-.94L8.5 2.5l-.94 2.06-2.06.94zm10 10l.94 2.06.94-2.06 2.06-.94-2.06-.94-.94-2.06-.94 2.06-2.06.94z\"/><path d=\"M17.41 7.96l-1.37-1.37c-.4-.4-.92-.59-1.43-.59-.52 0-1.04.2-1.43.59L10.3 9.45l-7.72 7.72c-.78.78-.78 2.05 0 2.83L4 21.41c.39.39.9.59 1.41.59.51 0 1.02-.2 1.41-.59l7.78-7.78 2.81-2.81c.8-.78.8-2.07 0-2.86zM5.41 20L4 18.59l7.72-7.72 1.47 1.35L5.41 20z\"/>\n",
              "  </svg>\n",
              "      </button>\n",
              "      \n",
              "  <style>\n",
              "    .colab-df-container {\n",
              "      display:flex;\n",
              "      flex-wrap:wrap;\n",
              "      gap: 12px;\n",
              "    }\n",
              "\n",
              "    .colab-df-convert {\n",
              "      background-color: #E8F0FE;\n",
              "      border: none;\n",
              "      border-radius: 50%;\n",
              "      cursor: pointer;\n",
              "      display: none;\n",
              "      fill: #1967D2;\n",
              "      height: 32px;\n",
              "      padding: 0 0 0 0;\n",
              "      width: 32px;\n",
              "    }\n",
              "\n",
              "    .colab-df-convert:hover {\n",
              "      background-color: #E2EBFA;\n",
              "      box-shadow: 0px 1px 2px rgba(60, 64, 67, 0.3), 0px 1px 3px 1px rgba(60, 64, 67, 0.15);\n",
              "      fill: #174EA6;\n",
              "    }\n",
              "\n",
              "    [theme=dark] .colab-df-convert {\n",
              "      background-color: #3B4455;\n",
              "      fill: #D2E3FC;\n",
              "    }\n",
              "\n",
              "    [theme=dark] .colab-df-convert:hover {\n",
              "      background-color: #434B5C;\n",
              "      box-shadow: 0px 1px 3px 1px rgba(0, 0, 0, 0.15);\n",
              "      filter: drop-shadow(0px 1px 2px rgba(0, 0, 0, 0.3));\n",
              "      fill: #FFFFFF;\n",
              "    }\n",
              "  </style>\n",
              "\n",
              "      <script>\n",
              "        const buttonEl =\n",
              "          document.querySelector('#df-89a60f2f-08f2-4c65-b0d7-4a775f8d480f button.colab-df-convert');\n",
              "        buttonEl.style.display =\n",
              "          google.colab.kernel.accessAllowed ? 'block' : 'none';\n",
              "\n",
              "        async function convertToInteractive(key) {\n",
              "          const element = document.querySelector('#df-89a60f2f-08f2-4c65-b0d7-4a775f8d480f');\n",
              "          const dataTable =\n",
              "            await google.colab.kernel.invokeFunction('convertToInteractive',\n",
              "                                                     [key], {});\n",
              "          if (!dataTable) return;\n",
              "\n",
              "          const docLinkHtml = 'Like what you see? Visit the ' +\n",
              "            '<a target=\"_blank\" href=https://colab.research.google.com/notebooks/data_table.ipynb>data table notebook</a>'\n",
              "            + ' to learn more about interactive tables.';\n",
              "          element.innerHTML = '';\n",
              "          dataTable['output_type'] = 'display_data';\n",
              "          await google.colab.output.renderOutput(dataTable, element);\n",
              "          const docLink = document.createElement('div');\n",
              "          docLink.innerHTML = docLinkHtml;\n",
              "          element.appendChild(docLink);\n",
              "        }\n",
              "      </script>\n",
              "    </div>\n",
              "  </div>\n",
              "  "
            ]
          },
          "metadata": {},
          "execution_count": 11
        }
      ],
      "source": [
        "# describing the data\n",
        "df_heart.describe().T"
      ]
    },
    {
      "cell_type": "code",
      "execution_count": null,
      "metadata": {
        "id": "RLuw32VfC_yQ",
        "outputId": "b405838a-6d9b-41f2-a509-aaeabc75546f",
        "colab": {
          "base_uri": "https://localhost:8080/"
        }
      },
      "outputs": [
        {
          "output_type": "stream",
          "name": "stdout",
          "text": [
            "There are no missing values in the dataset\n",
            "There are no duplicate records found in the dataset\n"
          ]
        }
      ],
      "source": [
        "# Checking missing values and duplicates\n",
        "missing_duplicates(df_heart)"
      ]
    },
    {
      "cell_type": "code",
      "execution_count": null,
      "metadata": {
        "id": "H8YjEBTrC_yQ"
      },
      "outputs": [],
      "source": [
        "df_heart['HeartDisease'] = np.where(df_heart['HeartDisease'] == 0,'No','Yes')"
      ]
    },
    {
      "cell_type": "code",
      "execution_count": null,
      "metadata": {
        "id": "DkZhboNbC_yR",
        "outputId": "71efba27-e601-4875-abea-577c85feef0f",
        "colab": {
          "base_uri": "https://localhost:8080/",
          "height": 382
        }
      },
      "outputs": [
        {
          "output_type": "stream",
          "name": "stdout",
          "text": [
            "Balance ratio of variable in Percentage\n",
            "Yes    55.34\n",
            "No     44.66\n",
            "Name: HeartDisease, dtype: float64\n",
            "\n"
          ]
        },
        {
          "output_type": "display_data",
          "data": {
            "text/plain": [
              "<Figure size 432x288 with 1 Axes>"
            ],
            "image/png": "[encoded data removed]"
          },
          "metadata": {
            "needs_background": "light"
          }
        }
      ],
      "source": [
        "# Checking the target feature balance\n",
        "balance_ratio(df_heart['HeartDisease'])"
      ]
    },
    {
      "cell_type": "code",
      "execution_count": null,
      "metadata": {
        "id": "w0RQktnYC_yR",
        "outputId": "1e2e017e-fb89-433b-f272-661b8d9e27e2",
        "colab": {
          "base_uri": "https://localhost:8080/",
          "height": 715
        }
      },
      "outputs": [
        {
          "output_type": "display_data",
          "data": {
            "text/plain": [
              "<Figure size 1080x864 with 6 Axes>"
            ],
            "image/png": "[encoded data removed]"
          },
          "metadata": {
            "needs_background": "light"
          }
        }
      ],
      "source": [
        "# we will check countplots for categorical variables\n",
        "countplots(df_heart,15,12,3)"
      ]
    },
    {
      "cell_type": "code",
      "execution_count": null,
      "metadata": {
        "id": "FV-HTQi9C_yR",
        "outputId": "df970af4-ee08-43eb-a7e0-77cf39ea1a2b",
        "colab": {
          "base_uri": "https://localhost:8080/",
          "height": 499
        }
      },
      "outputs": [
        {
          "output_type": "display_data",
          "data": {
            "text/plain": [
              "<Figure size 1080x576 with 6 Axes>"
            ],
            "image/png": "[encoded data removed]"
          },
          "metadata": {
            "needs_background": "light"
          }
        }
      ],
      "source": [
        "histogram(df_heart,15,8,3)"
      ]
    },
    {
      "cell_type": "code",
      "execution_count": null,
      "metadata": {
        "id": "STi8zuUAC_yR",
        "outputId": "9db1c7e3-3641-477c-8c80-0e3293108c6e",
        "colab": {
          "base_uri": "https://localhost:8080/",
          "height": 497
        }
      },
      "outputs": [
        {
          "output_type": "display_data",
          "data": {
            "text/plain": [
              "<Figure size 1080x576 with 6 Axes>"
            ],
            "image/png": "[encoded data removed]"
          },
          "metadata": {
            "needs_background": "light"
          }
        }
      ],
      "source": [
        "boxplots(df_heart,15,8,3)"
      ]
    },
    {
      "cell_type": "code",
      "execution_count": null,
      "metadata": {
        "id": "_DMa0QWUC_yS",
        "outputId": "82a0adae-d2ad-4e57-99bf-154290b0bf27",
        "colab": {
          "base_uri": "https://localhost:8080/",
          "height": 596
        }
      },
      "outputs": [
        {
          "output_type": "display_data",
          "data": {
            "text/plain": [
              "<Figure size 1080x720 with 2 Axes>"
            ],
            "image/png": "[encoded data removed]"
          },
          "metadata": {
            "needs_background": "light"
          }
        }
      ],
      "source": [
        "#Bivariate Analysis using heatmap\n",
        "plt.figure(figsize=(15,10))\n",
        "sns.heatmap(round(df_heart.corr(),2),annot=True,cmap='Blues')\n",
        "plt.show()"
      ]
    },
    {
      "cell_type": "code",
      "execution_count": null,
      "metadata": {
        "id": "88D95-FgC_yS",
        "outputId": "553cef59-e196-4dc1-e15c-26d43bebb766",
        "colab": {
          "base_uri": "https://localhost:8080/",
          "height": 1000
        }
      },
      "outputs": [
        {
          "output_type": "execute_result",
          "data": {
            "text/plain": [
              "<seaborn.axisgrid.PairGrid at 0x7f15fdfeb210>"
            ]
          },
          "metadata": {},
          "execution_count": 19
        },
        {
          "output_type": "display_data",
          "data": {
            "text/plain": [
              "<Figure size 1080x1080 with 27 Axes>"
            ],
            "image/png": "[encoded data removed]"
          },
          "metadata": {
            "needs_background": "light"
          }
        }
      ],
      "source": [
        "# pairplot\n",
        "sns.pairplot(df_heart, corner=True)"
      ]
    },
    {
      "cell_type": "code",
      "execution_count": null,
      "metadata": {
        "id": "o7O3eDKkC_yS",
        "outputId": "50be9a98-b4bd-47b7-b976-eb6c509b5112",
        "colab": {
          "base_uri": "https://localhost:8080/"
        }
      },
      "outputs": [
        {
          "output_type": "execute_result",
          "data": {
            "text/plain": [
              "Index(['Age', 'Sex', 'ChestPainType', 'RestingBP', 'Cholesterol', 'FastingBS',\n",
              "       'RestingECG', 'MaxHR', 'ExerciseAngina', 'Oldpeak', 'ST_Slope',\n",
              "       'HeartDisease'],\n",
              "      dtype='object')"
            ]
          },
          "metadata": {},
          "execution_count": 20
        }
      ],
      "source": [
        "df_heart.columns"
      ]
    },
    {
      "cell_type": "code",
      "execution_count": null,
      "metadata": {
        "id": "SPsjIbH_C_yT",
        "outputId": "ea885e93-31cb-4dea-a53c-c2fbac52faac",
        "colab": {
          "base_uri": "https://localhost:8080/",
          "height": 270
        }
      },
      "outputs": [
        {
          "output_type": "execute_result",
          "data": {
            "text/plain": [
              "   Age  RestingBP  Cholesterol  FastingBS  MaxHR  Oldpeak HeartDisease  Sex_M  \\\n",
              "0   40        140          289          0    172      0.0           No      1   \n",
              "1   49        160          180          0    156      1.0          Yes      0   \n",
              "2   37        130          283          0     98      0.0           No      1   \n",
              "3   48        138          214          0    108      1.5          Yes      0   \n",
              "4   54        150          195          0    122      0.0           No      1   \n",
              "\n",
              "   ChestPainType_ATA  ChestPainType_NAP  ChestPainType_TA  RestingECG_Normal  \\\n",
              "0                  1                  0                 0                  1   \n",
              "1                  0                  1                 0                  1   \n",
              "2                  1                  0                 0                  0   \n",
              "3                  0                  0                 0                  1   \n",
              "4                  0                  1                 0                  1   \n",
              "\n",
              "   RestingECG_ST  ExerciseAngina_Y  ST_Slope_Flat  ST_Slope_Up  \n",
              "0              0                 0              0            1  \n",
              "1              0                 0              1            0  \n",
              "2              1                 0              0            1  \n",
              "3              0                 1              1            0  \n",
              "4              0                 0              0            1  "
            ],
            "text/html": [
              "\n",
              "  <div id=\"df-568c1560-4c14-44ac-a3ef-c40f2778f5b6\">\n",
              "    <div class=\"colab-df-container\">\n",
              "      <div>\n",
              "<style scoped>\n",
              "    .dataframe tbody tr th:only-of-type {\n",
              "        vertical-align: middle;\n",
              "    }\n",
              "\n",
              "    .dataframe tbody tr th {\n",
              "        vertical-align: top;\n",
              "    }\n",
              "\n",
              "    .dataframe thead th {\n",
              "        text-align: right;\n",
              "    }\n",
              "</style>\n",
              "<table border=\"1\" class=\"dataframe\">\n",
              "  <thead>\n",
              "    <tr style=\"text-align: right;\">\n",
              "      <th></th>\n",
              "      <th>Age</th>\n",
              "      <th>RestingBP</th>\n",
              "      <th>Cholesterol</th>\n",
              "      <th>FastingBS</th>\n",
              "      <th>MaxHR</th>\n",
              "      <th>Oldpeak</th>\n",
              "      <th>HeartDisease</th>\n",
              "      <th>Sex_M</th>\n",
              "      <th>ChestPainType_ATA</th>\n",
              "      <th>ChestPainType_NAP</th>\n",
              "      <th>ChestPainType_TA</th>\n",
              "      <th>RestingECG_Normal</th>\n",
              "      <th>RestingECG_ST</th>\n",
              "      <th>ExerciseAngina_Y</th>\n",
              "      <th>ST_Slope_Flat</th>\n",
              "      <th>ST_Slope_Up</th>\n",
              "    </tr>\n",
              "  </thead>\n",
              "  <tbody>\n",
              "    <tr>\n",
              "      <th>0</th>\n",
              "      <td>40</td>\n",
              "      <td>140</td>\n",
              "      <td>289</td>\n",
              "      <td>0</td>\n",
              "      <td>172</td>\n",
              "      <td>0.0</td>\n",
              "      <td>No</td>\n",
              "      <td>1</td>\n",
              "      <td>1</td>\n",
              "      <td>0</td>\n",
              "      <td>0</td>\n",
              "      <td>1</td>\n",
              "      <td>0</td>\n",
              "      <td>0</td>\n",
              "      <td>0</td>\n",
              "      <td>1</td>\n",
              "    </tr>\n",
              "    <tr>\n",
              "      <th>1</th>\n",
              "      <td>49</td>\n",
              "      <td>160</td>\n",
              "      <td>180</td>\n",
              "      <td>0</td>\n",
              "      <td>156</td>\n",
              "      <td>1.0</td>\n",
              "      <td>Yes</td>\n",
              "      <td>0</td>\n",
              "      <td>0</td>\n",
              "      <td>1</td>\n",
              "      <td>0</td>\n",
              "      <td>1</td>\n",
              "      <td>0</td>\n",
              "      <td>0</td>\n",
              "      <td>1</td>\n",
              "      <td>0</td>\n",
              "    </tr>\n",
              "    <tr>\n",
              "      <th>2</th>\n",
              "      <td>37</td>\n",
              "      <td>130</td>\n",
              "      <td>283</td>\n",
              "      <td>0</td>\n",
              "      <td>98</td>\n",
              "      <td>0.0</td>\n",
              "      <td>No</td>\n",
              "      <td>1</td>\n",
              "      <td>1</td>\n",
              "      <td>0</td>\n",
              "      <td>0</td>\n",
              "      <td>0</td>\n",
              "      <td>1</td>\n",
              "      <td>0</td>\n",
              "      <td>0</td>\n",
              "      <td>1</td>\n",
              "    </tr>\n",
              "    <tr>\n",
              "      <th>3</th>\n",
              "      <td>48</td>\n",
              "      <td>138</td>\n",
              "      <td>214</td>\n",
              "      <td>0</td>\n",
              "      <td>108</td>\n",
              "      <td>1.5</td>\n",
              "      <td>Yes</td>\n",
              "      <td>0</td>\n",
              "      <td>0</td>\n",
              "      <td>0</td>\n",
              "      <td>0</td>\n",
              "      <td>1</td>\n",
              "      <td>0</td>\n",
              "      <td>1</td>\n",
              "      <td>1</td>\n",
              "      <td>0</td>\n",
              "    </tr>\n",
              "    <tr>\n",
              "      <th>4</th>\n",
              "      <td>54</td>\n",
              "      <td>150</td>\n",
              "      <td>195</td>\n",
              "      <td>0</td>\n",
              "      <td>122</td>\n",
              "      <td>0.0</td>\n",
              "      <td>No</td>\n",
              "      <td>1</td>\n",
              "      <td>0</td>\n",
              "      <td>1</td>\n",
              "      <td>0</td>\n",
              "      <td>1</td>\n",
              "      <td>0</td>\n",
              "      <td>0</td>\n",
              "      <td>0</td>\n",
              "      <td>1</td>\n",
              "    </tr>\n",
              "  </tbody>\n",
              "</table>\n",
              "</div>\n",
              "      <button class=\"colab-df-convert\" onclick=\"convertToInteractive('df-568c1560-4c14-44ac-a3ef-c40f2778f5b6')\"\n",
              "              title=\"Convert this dataframe to an interactive table.\"\n",
              "              style=\"display:none;\">\n",
              "        \n",
              "  <svg xmlns=\"http://www.w3.org/2000/svg\" height=\"24px\"viewBox=\"0 0 24 24\"\n",
              "       width=\"24px\">\n",
              "    <path d=\"M0 0h24v24H0V0z\" fill=\"none\"/>\n",
              "    <path d=\"M18.56 5.44l.94 2.06.94-2.06 2.06-.94-2.06-.94-.94-2.06-.94 2.06-2.06.94zm-11 1L8.5 8.5l.94-2.06 2.06-.94-2.06-.94L8.5 2.5l-.94 2.06-2.06.94zm10 10l.94 2.06.94-2.06 2.06-.94-2.06-.94-.94-2.06-.94 2.06-2.06.94z\"/><path d=\"M17.41 7.96l-1.37-1.37c-.4-.4-.92-.59-1.43-.59-.52 0-1.04.2-1.43.59L10.3 9.45l-7.72 7.72c-.78.78-.78 2.05 0 2.83L4 21.41c.39.39.9.59 1.41.59.51 0 1.02-.2 1.41-.59l7.78-7.78 2.81-2.81c.8-.78.8-2.07 0-2.86zM5.41 20L4 18.59l7.72-7.72 1.47 1.35L5.41 20z\"/>\n",
              "  </svg>\n",
              "      </button>\n",
              "      \n",
              "  <style>\n",
              "    .colab-df-container {\n",
              "      display:flex;\n",
              "      flex-wrap:wrap;\n",
              "      gap: 12px;\n",
              "    }\n",
              "\n",
              "    .colab-df-convert {\n",
              "      background-color: #E8F0FE;\n",
              "      border: none;\n",
              "      border-radius: 50%;\n",
              "      cursor: pointer;\n",
              "      display: none;\n",
              "      fill: #1967D2;\n",
              "      height: 32px;\n",
              "      padding: 0 0 0 0;\n",
              "      width: 32px;\n",
              "    }\n",
              "\n",
              "    .colab-df-convert:hover {\n",
              "      background-color: #E2EBFA;\n",
              "      box-shadow: 0px 1px 2px rgba(60, 64, 67, 0.3), 0px 1px 3px 1px rgba(60, 64, 67, 0.15);\n",
              "      fill: #174EA6;\n",
              "    }\n",
              "\n",
              "    [theme=dark] .colab-df-convert {\n",
              "      background-color: #3B4455;\n",
              "      fill: #D2E3FC;\n",
              "    }\n",
              "\n",
              "    [theme=dark] .colab-df-convert:hover {\n",
              "      background-color: #434B5C;\n",
              "      box-shadow: 0px 1px 3px 1px rgba(0, 0, 0, 0.15);\n",
              "      filter: drop-shadow(0px 1px 2px rgba(0, 0, 0, 0.3));\n",
              "      fill: #FFFFFF;\n",
              "    }\n",
              "  </style>\n",
              "\n",
              "      <script>\n",
              "        const buttonEl =\n",
              "          document.querySelector('#df-568c1560-4c14-44ac-a3ef-c40f2778f5b6 button.colab-df-convert');\n",
              "        buttonEl.style.display =\n",
              "          google.colab.kernel.accessAllowed ? 'block' : 'none';\n",
              "\n",
              "        async function convertToInteractive(key) {\n",
              "          const element = document.querySelector('#df-568c1560-4c14-44ac-a3ef-c40f2778f5b6');\n",
              "          const dataTable =\n",
              "            await google.colab.kernel.invokeFunction('convertToInteractive',\n",
              "                                                     [key], {});\n",
              "          if (!dataTable) return;\n",
              "\n",
              "          const docLinkHtml = 'Like what you see? Visit the ' +\n",
              "            '<a target=\"_blank\" href=https://colab.research.google.com/notebooks/data_table.ipynb>data table notebook</a>'\n",
              "            + ' to learn more about interactive tables.';\n",
              "          element.innerHTML = '';\n",
              "          dataTable['output_type'] = 'display_data';\n",
              "          await google.colab.output.renderOutput(dataTable, element);\n",
              "          const docLink = document.createElement('div');\n",
              "          docLink.innerHTML = docLinkHtml;\n",
              "          element.appendChild(docLink);\n",
              "        }\n",
              "      </script>\n",
              "    </div>\n",
              "  </div>\n",
              "  "
            ]
          },
          "metadata": {},
          "execution_count": 21
        }
      ],
      "source": [
        "# We will perform one hot encoding on all categorical variables.\n",
        "# Drop_first is set to True in order to avoid multicolinearity and also it reduces number of features\n",
        "# We will not encode the target variable i.e 'HeartDisease'\n",
        "df_heart = pd.get_dummies(data=df_heart, columns=['Sex','ChestPainType','RestingECG','ExerciseAngina','ST_Slope'], drop_first=True)\n",
        "df_heart.head()"
      ]
    },
    {
      "cell_type": "code",
      "source": [
        "df_heart.shape"
      ],
      "metadata": {
        "colab": {
          "base_uri": "https://localhost:8080/"
        },
        "id": "fdGW-OkCuTs0",
        "outputId": "198e1195-ffcc-43b0-b2ed-2bae44cbd863"
      },
      "execution_count": null,
      "outputs": [
        {
          "output_type": "execute_result",
          "data": {
            "text/plain": [
              "(918, 16)"
            ]
          },
          "metadata": {},
          "execution_count": 22
        }
      ]
    },
    {
      "cell_type": "code",
      "execution_count": null,
      "metadata": {
        "id": "nvlNghwyC_yT",
        "outputId": "d91cfa4e-864c-4781-fc56-0d1f60f8881c",
        "colab": {
          "base_uri": "https://localhost:8080/",
          "height": 382
        }
      },
      "outputs": [
        {
          "output_type": "stream",
          "name": "stdout",
          "text": [
            "Balance ratio of variable in Percentage\n",
            "Yes    64.96\n",
            "No     35.04\n",
            "Name: HeartDisease, dtype: float64\n",
            "\n"
          ]
        },
        {
          "output_type": "display_data",
          "data": {
            "text/plain": [
              "<Figure size 432x288 with 1 Axes>"
            ],
            "image/png": "[encoded data removed]"
          },
          "metadata": {
            "needs_background": "light"
          }
        }
      ],
      "source": [
        "# creating 65:35 imbalance ratio\n",
        "df_heart_65 = create_imbalance(df_heart,6,65)\n",
        "balance_ratio(df_heart_65['HeartDisease'])"
      ]
    },
    {
      "cell_type": "code",
      "execution_count": null,
      "metadata": {
        "id": "r6ox58VuC_yT",
        "outputId": "fa70aee0-12d0-48a2-e2c3-34d12f97c1a4",
        "colab": {
          "base_uri": "https://localhost:8080/",
          "height": 382
        }
      },
      "outputs": [
        {
          "output_type": "stream",
          "name": "stdout",
          "text": [
            "Balance ratio of variable in Percentage\n",
            "Yes    75.0\n",
            "No     25.0\n",
            "Name: HeartDisease, dtype: float64\n",
            "\n"
          ]
        },
        {
          "output_type": "display_data",
          "data": {
            "text/plain": [
              "<Figure size 432x288 with 1 Axes>"
            ],
            "image/png": "[encoded data removed]"
          },
          "metadata": {
            "needs_background": "light"
          }
        }
      ],
      "source": [
        "# creating 75:25 imbalance ratio\n",
        "df_heart_75 = create_imbalance(df_heart,6,75)\n",
        "balance_ratio(df_heart_75['HeartDisease'])"
      ]
    },
    {
      "cell_type": "code",
      "execution_count": null,
      "metadata": {
        "id": "sx2R8uUcC_yT",
        "outputId": "abff0320-de84-48f7-ff78-e301870f546f",
        "colab": {
          "base_uri": "https://localhost:8080/",
          "height": 382
        }
      },
      "outputs": [
        {
          "output_type": "stream",
          "name": "stdout",
          "text": [
            "Balance ratio of variable in Percentage\n",
            "Yes    89.96\n",
            "No     10.04\n",
            "Name: HeartDisease, dtype: float64\n",
            "\n"
          ]
        },
        {
          "output_type": "display_data",
          "data": {
            "text/plain": [
              "<Figure size 432x288 with 1 Axes>"
            ],
            "image/png": "[encoded data removed]"
          },
          "metadata": {
            "needs_background": "light"
          }
        }
      ],
      "source": [
        "# creating 90:10 imbalance ratio\n",
        "df_heart_90 = create_imbalance(df_heart,6,90)\n",
        "balance_ratio(df_heart_90['HeartDisease'])"
      ]
    },
    {
      "cell_type": "markdown",
      "source": [
        "**Base Line Model**"
      ],
      "metadata": {
        "id": "fsROugZxFuWN"
      }
    },
    {
      "cell_type": "code",
      "source": [
        "# grid search to find best hyper tuning parameters\n",
        "\n",
        "# configuring min max sacling\n",
        "scale_minmax = MinMaxScaler()\n",
        "\n",
        "# seperating target and features\n",
        "X = df_heart.drop(columns=['HeartDisease'],axis=1)\n",
        "y = df_heart['HeartDisease']\n",
        "\n",
        "X = pd.DataFrame(scale_minmax.fit_transform(X), columns=X.columns)\n",
        "\n",
        "\n",
        "grid = {\n",
        "    'max_features': [4,5],\n",
        "    'max_depth': [4,5,6],\n",
        "    'min_samples_leaf': [5,10], \n",
        "    'min_samples_split': [2,4,6],\n",
        "       }\n",
        "\n",
        "RF_Model = RandomForestClassifier(random_state=1)\n",
        "\n",
        "grid_search = GridSearchCV(estimator = RF_Model, param_grid = grid, cv = 10,n_jobs=-1,scoring='f1')\n",
        "grid_search.fit(X, y)\n",
        "print(grid_search.best_params_,'\\n')"
      ],
      "metadata": {
        "colab": {
          "base_uri": "https://localhost:8080/"
        },
        "id": "ier2uA8-iLyM",
        "outputId": "8351c19d-a221-40c9-8909-ee21f25698c1"
      },
      "execution_count": null,
      "outputs": [
        {
          "output_type": "stream",
          "name": "stdout",
          "text": [
            "{'max_depth': 4, 'max_features': 4, 'min_samples_leaf': 5, 'min_samples_split': 2} \n",
            "\n"
          ]
        }
      ]
    },
    {
      "cell_type": "code",
      "source": [
        "# configuring stratified cross validation with cv=10\n",
        "skf = StratifiedKFold(n_splits=10, shuffle=True, random_state=1)\n",
        "\n",
        "# configuring scaling\n",
        "scale = MinMaxScaler()"
      ],
      "metadata": {
        "id": "tJwusiV7Dkpu"
      },
      "execution_count": null,
      "outputs": []
    },
    {
      "cell_type": "code",
      "source": [
        "# for original data\n",
        "\n",
        "# seperating target and features\n",
        "X = df_heart.drop(columns=['HeartDisease'],axis=1)\n",
        "y = df_heart['HeartDisease']\n",
        "\n",
        "# performing 10 fold stratified cross validation\n",
        "iteration_no = 1\n",
        "train_f1 = []\n",
        "test_f1 = []\n",
        "train_kappa = []\n",
        "test_kappa = []\n",
        "train_acc = []\n",
        "test_acc = []\n",
        "for train_index, test_index in skf.split(X, y):\n",
        "  x_train_fold, x_test_fold = X.iloc[train_index], X.iloc[test_index]\n",
        "  y_train_fold, y_test_fold = y.iloc[train_index], y.iloc[test_index]\n",
        "  x_train_fold_scale = pd.DataFrame(scale.fit_transform(x_train_fold), columns=x_train_fold.columns)\n",
        "  x_test_fold_scale = pd.DataFrame(scale.transform(x_test_fold), columns=x_test_fold.columns)\n",
        "  BL_Model = RandomForestClassifier(n_estimators=100, max_features=4, max_depth=4, min_samples_leaf=5, min_samples_split=2, random_state=1)\n",
        "  BL_Model.fit(x_train_fold_scale, y_train_fold)\n",
        "  train_f1_cv = metrics.f1_score(y_train_fold, BL_Model.predict(x_train_fold_scale), pos_label='No')\n",
        "  test_f1_cv = metrics.f1_score(y_test_fold, BL_Model.predict(x_test_fold_scale), pos_label='No')\n",
        "  train_kappa_cv = metrics.cohen_kappa_score(y_train_fold, BL_Model.predict(x_train_fold_scale))#, pos_label='Yes')\n",
        "  test_kappa_cv = metrics.cohen_kappa_score(y_test_fold, BL_Model.predict(x_test_fold_scale))#, pos_label='Yes')\n",
        "  train_acc_cv = metrics.accuracy_score(y_train_fold, BL_Model.predict(x_train_fold_scale))#, pos_label='Yes')\n",
        "  test_acc_cv = metrics.accuracy_score(y_test_fold, BL_Model.predict(x_test_fold_scale))#, pos_label='Yes')\n",
        "  print('Iteration number:', iteration_no)\n",
        "  train_f1 = np.append(train_f1, train_f1_cv)\n",
        "  test_f1 = np.append(test_f1, test_f1_cv)\n",
        "  train_kappa = np.append(train_kappa, train_kappa_cv)\n",
        "  test_kappa = np.append(test_kappa, test_kappa_cv)\n",
        "  train_acc = np.append(train_acc, train_acc_cv)\n",
        "  test_acc = np.append(test_acc, test_acc_cv)\n",
        "  iteration_no += 1\n",
        "print('\\nTrain F1 score after 10 fold CV:', round(train_f1.mean(),5),'+/-', round(train_f1.std(),5))\n",
        "print('Test F1 score after 10 fold CV:', round(test_f1.mean(),5),'+/-', round(test_f1.std(),5))\n",
        "print('Train kappa after 10 fold CV:', round(train_kappa.mean(),5),'+/-', round(train_kappa.std(),5))\n",
        "print('Test Kappa after 10 fold CV:', round(test_kappa.mean(),5),'+/-', round(test_kappa.std(),5))\n",
        "print('Train Accuracy after 10 fold CV:', round(train_acc.mean(),5),'+/-', round(train_acc.std(),5))\n",
        "print('Test Accuracy after 10 fold CV:', round(test_acc.mean(),5),'+/-', round(test_acc.std(),5))\n",
        "print('')\n",
        "\n",
        "# saving performance metrics for comparison\n",
        "train_acc_BL_original = train_acc\n",
        "test_acc_BL_original = test_acc\n",
        "train_f1_BL_original = train_f1\n",
        "test_f1_BL_original = test_f1\n",
        "train_kappa_BL_original = train_kappa\n",
        "test_kappa_BL_original = test_kappa\n",
        "\n",
        "# visualising the performace metrics\n",
        "visualise = {'Train F1 Score': train_f1, 'Test F1 Score': test_f1,\n",
        "             'Train Kappa': train_kappa, 'Test Kappa': test_kappa,\n",
        "             'Train Accuracy': train_acc, 'Test Accuracy': test_acc}\n",
        "visualise = pd.DataFrame(visualise)\n",
        "visualise.boxplot()\n",
        "plt.ylabel('Performace measure')\n",
        "plt.xticks(rotation=45)\n",
        "plt.show()"
      ],
      "metadata": {
        "colab": {
          "base_uri": "https://localhost:8080/",
          "height": 626
        },
        "id": "NdTVOqayDkm8",
        "outputId": "9bd051df-4d72-4cef-e8b4-a21df69c4773"
      },
      "execution_count": null,
      "outputs": [
        {
          "output_type": "stream",
          "name": "stdout",
          "text": [
            "Iteration number: 1\n",
            "Iteration number: 2\n",
            "Iteration number: 3\n",
            "Iteration number: 4\n",
            "Iteration number: 5\n",
            "Iteration number: 6\n",
            "Iteration number: 7\n",
            "Iteration number: 8\n",
            "Iteration number: 9\n",
            "Iteration number: 10\n",
            "\n",
            "Train F1 score after 10 fold CV: 0.85254 +/- 0.00676\n",
            "Test F1 score after 10 fold CV: 0.82829 +/- 0.06941\n",
            "Train kappa after 10 fold CV: 0.74375 +/- 0.01143\n",
            "Test Kappa after 10 fold CV: 0.70755 +/- 0.10788\n",
            "Train Accuracy after 10 fold CV: 0.87449 +/- 0.00557\n",
            "Test Accuracy after 10 fold CV: 0.85733 +/- 0.05156\n",
            "\n"
          ]
        },
        {
          "output_type": "display_data",
          "data": {
            "text/plain": [
              "<Figure size 432x288 with 1 Axes>"
            ],
            "image/png": "[encoded data removed]"
          },
          "metadata": {
            "needs_background": "light"
          }
        }
      ]
    },
    {
      "cell_type": "code",
      "source": [
        "# for low imbalance data\n",
        "\n",
        "# seperating target and features\n",
        "X = df_heart_65.drop(columns=['HeartDisease'],axis=1)\n",
        "y = df_heart_65['HeartDisease']\n",
        "\n",
        "# performing 10 fold stratified cross validation\n",
        "iteration_no = 1\n",
        "train_f1 = []\n",
        "test_f1 = []\n",
        "train_kappa = []\n",
        "test_kappa = []\n",
        "train_acc = []\n",
        "test_acc = []\n",
        "for train_index, test_index in skf.split(X, y):\n",
        "  x_train_fold, x_test_fold = X.iloc[train_index], X.iloc[test_index]\n",
        "  y_train_fold, y_test_fold = y.iloc[train_index], y.iloc[test_index]\n",
        "  x_train_fold_scale = pd.DataFrame(scale.fit_transform(x_train_fold), columns=x_train_fold.columns)\n",
        "  x_test_fold_scale = pd.DataFrame(scale.transform(x_test_fold), columns=x_test_fold.columns)\n",
        "  BL_Model = RandomForestClassifier(n_estimators=100, max_features=4, max_depth=4, min_samples_leaf=5, min_samples_split=2, random_state=1)\n",
        "  BL_Model.fit(x_train_fold_scale, y_train_fold)\n",
        "  train_f1_cv = metrics.f1_score(y_train_fold, BL_Model.predict(x_train_fold_scale), pos_label='No')\n",
        "  test_f1_cv = metrics.f1_score(y_test_fold, BL_Model.predict(x_test_fold_scale), pos_label='No')\n",
        "  train_kappa_cv = metrics.cohen_kappa_score(y_train_fold, BL_Model.predict(x_train_fold_scale))#, pos_label='Yes')\n",
        "  test_kappa_cv = metrics.cohen_kappa_score(y_test_fold, BL_Model.predict(x_test_fold_scale))#, pos_label='Yes')\n",
        "  train_acc_cv = metrics.accuracy_score(y_train_fold, BL_Model.predict(x_train_fold_scale))#, pos_label='Yes')\n",
        "  test_acc_cv = metrics.accuracy_score(y_test_fold, BL_Model.predict(x_test_fold_scale))#, pos_label='Yes')\n",
        "  print('Iteration number:', iteration_no)\n",
        "  train_f1 = np.append(train_f1, train_f1_cv)\n",
        "  test_f1 = np.append(test_f1, test_f1_cv)\n",
        "  train_kappa = np.append(train_kappa, train_kappa_cv)\n",
        "  test_kappa = np.append(test_kappa, test_kappa_cv)\n",
        "  train_acc = np.append(train_acc, train_acc_cv)\n",
        "  test_acc = np.append(test_acc, test_acc_cv)\n",
        "  iteration_no += 1\n",
        "print('\\nTrain F1 score after 10 fold CV:', round(train_f1.mean(),5),'+/-', round(train_f1.std(),5))\n",
        "print('Test F1 score after 10 fold CV:', round(test_f1.mean(),5),'+/-', round(test_f1.std(),5))\n",
        "print('Train kappa after 10 fold CV:', round(train_kappa.mean(),5),'+/-', round(train_kappa.std(),5))\n",
        "print('Test Kappa after 10 fold CV:', round(test_kappa.mean(),5),'+/-', round(test_kappa.std(),5))\n",
        "print('Train Accuracy after 10 fold CV:', round(train_acc.mean(),5),'+/-', round(train_acc.std(),5))\n",
        "print('Test Accuracy after 10 fold CV:', round(test_acc.mean(),5),'+/-', round(test_acc.std(),5))\n",
        "print('')\n",
        "\n",
        "# saving performance metrics for comparison\n",
        "train_acc_BL_low = train_acc\n",
        "test_acc_BL_low = test_acc\n",
        "train_f1_BL_low = train_f1\n",
        "test_f1_BL_low = test_f1\n",
        "train_kappa_BL_low = train_kappa\n",
        "test_kappa_BL_low = test_kappa\n",
        "\n",
        "# visualising the performace metrics\n",
        "visualise = {'Train F1 Score': train_f1, 'Test F1 Score': test_f1,\n",
        "             'Train Kappa': train_kappa, 'Test Kappa': test_kappa,\n",
        "             'Train Accuracy': train_acc, 'Test Accuracy': test_acc}\n",
        "visualise = pd.DataFrame(visualise)\n",
        "visualise.boxplot()\n",
        "plt.ylabel('Performace measure')\n",
        "plt.xticks(rotation=45)\n",
        "plt.show()"
      ],
      "metadata": {
        "colab": {
          "base_uri": "https://localhost:8080/",
          "height": 626
        },
        "id": "9CHOxUIuDkkN",
        "outputId": "533c57d6-0bbe-4ffc-ad7f-da50252d0a8d"
      },
      "execution_count": null,
      "outputs": [
        {
          "output_type": "stream",
          "name": "stdout",
          "text": [
            "Iteration number: 1\n",
            "Iteration number: 2\n",
            "Iteration number: 3\n",
            "Iteration number: 4\n",
            "Iteration number: 5\n",
            "Iteration number: 6\n",
            "Iteration number: 7\n",
            "Iteration number: 8\n",
            "Iteration number: 9\n",
            "Iteration number: 10\n",
            "\n",
            "Train F1 score after 10 fold CV: 0.85907 +/- 0.01013\n",
            "Test F1 score after 10 fold CV: 0.82298 +/- 0.05819\n",
            "Train kappa after 10 fold CV: 0.78768 +/- 0.015\n",
            "Test Kappa after 10 fold CV: 0.73466 +/- 0.08163\n",
            "Train Accuracy after 10 fold CV: 0.90508 +/- 0.00664\n",
            "Test Accuracy after 10 fold CV: 0.88176 +/- 0.0345\n",
            "\n"
          ]
        },
        {
          "output_type": "display_data",
          "data": {
            "text/plain": [
              "<Figure size 432x288 with 1 Axes>"
            ],
            "image/png": "[encoded data removed]"
          },
          "metadata": {
            "needs_background": "light"
          }
        }
      ]
    },
    {
      "cell_type": "code",
      "source": [
        "# for med imbalance data\n",
        "\n",
        "# seperating target and features\n",
        "X = df_heart_75.drop(columns=['HeartDisease'],axis=1)\n",
        "y = df_heart_75['HeartDisease']\n",
        "\n",
        "# performing 10 fold stratified cross validation\n",
        "iteration_no = 1\n",
        "train_f1 = []\n",
        "test_f1 = []\n",
        "train_kappa = []\n",
        "test_kappa = []\n",
        "train_acc = []\n",
        "test_acc = []\n",
        "for train_index, test_index in skf.split(X, y):\n",
        "  x_train_fold, x_test_fold = X.iloc[train_index], X.iloc[test_index]\n",
        "  y_train_fold, y_test_fold = y.iloc[train_index], y.iloc[test_index]\n",
        "  x_train_fold_scale = pd.DataFrame(scale.fit_transform(x_train_fold), columns=x_train_fold.columns)\n",
        "  x_test_fold_scale = pd.DataFrame(scale.transform(x_test_fold), columns=x_test_fold.columns)\n",
        "  BL_Model = RandomForestClassifier(n_estimators=100, max_features=4, max_depth=4, min_samples_leaf=5, min_samples_split=2, random_state=1)\n",
        "  BL_Model.fit(x_train_fold_scale, y_train_fold)\n",
        "  train_f1_cv = metrics.f1_score(y_train_fold, BL_Model.predict(x_train_fold_scale), pos_label='No')\n",
        "  test_f1_cv = metrics.f1_score(y_test_fold, BL_Model.predict(x_test_fold_scale), pos_label='No')\n",
        "  train_kappa_cv = metrics.cohen_kappa_score(y_train_fold, BL_Model.predict(x_train_fold_scale))#, pos_label='Yes')\n",
        "  test_kappa_cv = metrics.cohen_kappa_score(y_test_fold, BL_Model.predict(x_test_fold_scale))#, pos_label='Yes')\n",
        "  train_acc_cv = metrics.accuracy_score(y_train_fold, BL_Model.predict(x_train_fold_scale))#, pos_label='Yes')\n",
        "  test_acc_cv = metrics.accuracy_score(y_test_fold, BL_Model.predict(x_test_fold_scale))#, pos_label='Yes')\n",
        "  print('Iteration number:', iteration_no)\n",
        "  train_f1 = np.append(train_f1, train_f1_cv)\n",
        "  test_f1 = np.append(test_f1, test_f1_cv)\n",
        "  train_kappa = np.append(train_kappa, train_kappa_cv)\n",
        "  test_kappa = np.append(test_kappa, test_kappa_cv)\n",
        "  train_acc = np.append(train_acc, train_acc_cv)\n",
        "  test_acc = np.append(test_acc, test_acc_cv)\n",
        "  iteration_no += 1\n",
        "print('\\nTrain F1 score after 10 fold CV:', round(train_f1.mean(),5),'+/-', round(train_f1.std(),5))\n",
        "print('Test F1 score after 10 fold CV:', round(test_f1.mean(),5),'+/-', round(test_f1.std(),5))\n",
        "print('Train kappa after 10 fold CV:', round(train_kappa.mean(),5),'+/-', round(train_kappa.std(),5))\n",
        "print('Test Kappa after 10 fold CV:', round(test_kappa.mean(),5),'+/-', round(test_kappa.std(),5))\n",
        "print('Train Accuracy after 10 fold CV:', round(train_acc.mean(),5),'+/-', round(train_acc.std(),5))\n",
        "print('Test Accuracy after 10 fold CV:', round(test_acc.mean(),5),'+/-', round(test_acc.std(),5))\n",
        "print('')\n",
        "\n",
        "# saving performance metrics for comparison\n",
        "train_acc_BL_med = train_acc\n",
        "test_acc_BL_med = test_acc\n",
        "train_f1_BL_med = train_f1\n",
        "test_f1_BL_med = test_f1\n",
        "train_kappa_BL_med = train_kappa\n",
        "test_kappa_BL_med = test_kappa\n",
        "\n",
        "# visualising the performace metrics\n",
        "visualise = {'Train F1 Score': train_f1, 'Test F1 Score': test_f1,\n",
        "             'Train Kappa': train_kappa, 'Test Kappa': test_kappa,\n",
        "             'Train Accuracy': train_acc, 'Test Accuracy': test_acc}\n",
        "visualise = pd.DataFrame(visualise)\n",
        "visualise.boxplot()\n",
        "plt.ylabel('Performace measure')\n",
        "plt.xticks(rotation=45)\n",
        "plt.show()"
      ],
      "metadata": {
        "colab": {
          "base_uri": "https://localhost:8080/",
          "height": 626
        },
        "id": "G9MRiI6YDkhl",
        "outputId": "d301f0d0-1e8b-4910-81f4-0874baf00d9e"
      },
      "execution_count": null,
      "outputs": [
        {
          "output_type": "stream",
          "name": "stdout",
          "text": [
            "Iteration number: 1\n",
            "Iteration number: 2\n",
            "Iteration number: 3\n",
            "Iteration number: 4\n",
            "Iteration number: 5\n",
            "Iteration number: 6\n",
            "Iteration number: 7\n",
            "Iteration number: 8\n",
            "Iteration number: 9\n",
            "Iteration number: 10\n",
            "\n",
            "Train F1 score after 10 fold CV: 0.84014 +/- 0.00733\n",
            "Test F1 score after 10 fold CV: 0.78186 +/- 0.08238\n",
            "Train kappa after 10 fold CV: 0.78953 +/- 0.00957\n",
            "Test Kappa after 10 fold CV: 0.71422 +/- 0.1082\n",
            "Train Accuracy after 10 fold CV: 0.92301 +/- 0.0035\n",
            "Test Accuracy after 10 fold CV: 0.89565 +/- 0.04124\n",
            "\n"
          ]
        },
        {
          "output_type": "display_data",
          "data": {
            "text/plain": [
              "<Figure size 432x288 with 1 Axes>"
            ],
            "image/png": "[encoded data removed]"
          },
          "metadata": {
            "needs_background": "light"
          }
        }
      ]
    },
    {
      "cell_type": "code",
      "source": [
        "# for high imbalance data\n",
        "\n",
        "# seperating target and features\n",
        "X = df_heart_90.drop(columns=['HeartDisease'],axis=1)\n",
        "y = df_heart_90['HeartDisease']\n",
        "\n",
        "# performing 10 fold stratified cross validation\n",
        "iteration_no = 1\n",
        "train_f1 = []\n",
        "test_f1 = []\n",
        "train_kappa = []\n",
        "test_kappa = []\n",
        "train_acc = []\n",
        "test_acc = []\n",
        "for train_index, test_index in skf.split(X, y):\n",
        "  x_train_fold, x_test_fold = X.iloc[train_index], X.iloc[test_index]\n",
        "  y_train_fold, y_test_fold = y.iloc[train_index], y.iloc[test_index]\n",
        "  x_train_fold_scale = pd.DataFrame(scale.fit_transform(x_train_fold), columns=x_train_fold.columns)\n",
        "  x_test_fold_scale = pd.DataFrame(scale.transform(x_test_fold), columns=x_test_fold.columns)\n",
        "  BL_Model = RandomForestClassifier(n_estimators=100, max_features=4, max_depth=4, min_samples_leaf=5, min_samples_split=2, random_state=1)\n",
        "  BL_Model.fit(x_train_fold_scale, y_train_fold)\n",
        "  train_f1_cv = metrics.f1_score(y_train_fold, BL_Model.predict(x_train_fold_scale), pos_label='No')\n",
        "  test_f1_cv = metrics.f1_score(y_test_fold, BL_Model.predict(x_test_fold_scale), pos_label='No')\n",
        "  train_kappa_cv = metrics.cohen_kappa_score(y_train_fold, BL_Model.predict(x_train_fold_scale))#, pos_label='Yes')\n",
        "  test_kappa_cv = metrics.cohen_kappa_score(y_test_fold, BL_Model.predict(x_test_fold_scale))#, pos_label='Yes')\n",
        "  train_acc_cv = metrics.accuracy_score(y_train_fold, BL_Model.predict(x_train_fold_scale))#, pos_label='Yes')\n",
        "  test_acc_cv = metrics.accuracy_score(y_test_fold, BL_Model.predict(x_test_fold_scale))#, pos_label='Yes')\n",
        "  print('Iteration number:', iteration_no)\n",
        "  train_f1 = np.append(train_f1, train_f1_cv)\n",
        "  test_f1 = np.append(test_f1, test_f1_cv)\n",
        "  train_kappa = np.append(train_kappa, train_kappa_cv)\n",
        "  test_kappa = np.append(test_kappa, test_kappa_cv)\n",
        "  train_acc = np.append(train_acc, train_acc_cv)\n",
        "  test_acc = np.append(test_acc, test_acc_cv)\n",
        "  iteration_no += 1\n",
        "print('\\nTrain F1 score after 10 fold CV:', round(train_f1.mean(),5),'+/-', round(train_f1.std(),5))\n",
        "print('Test F1 score after 10 fold CV:', round(test_f1.mean(),5),'+/-', round(test_f1.std(),5))\n",
        "print('Train kappa after 10 fold CV:', round(train_kappa.mean(),5),'+/-', round(train_kappa.std(),5))\n",
        "print('Test Kappa after 10 fold CV:', round(test_kappa.mean(),5),'+/-', round(test_kappa.std(),5))\n",
        "print('Train Accuracy after 10 fold CV:', round(train_acc.mean(),5),'+/-', round(train_acc.std(),5))\n",
        "print('Test Accuracy after 10 fold CV:', round(test_acc.mean(),5),'+/-', round(test_acc.std(),5))\n",
        "print('')\n",
        "\n",
        "# saving performance metrics for comparison\n",
        "train_acc_BL_hig = train_acc\n",
        "test_acc_BL_hig = test_acc\n",
        "train_f1_BL_hig = train_f1\n",
        "test_f1_BL_hig = test_f1\n",
        "train_kappa_BL_hig = train_kappa\n",
        "test_kappa_BL_hig = test_kappa\n",
        "\n",
        "# visualising the performace metrics\n",
        "visualise = {'Train F1 Score': train_f1, 'Test F1 Score': test_f1,\n",
        "             'Train Kappa': train_kappa, 'Test Kappa': test_kappa,\n",
        "             'Train Accuracy': train_acc, 'Test Accuracy': test_acc}\n",
        "visualise = pd.DataFrame(visualise)\n",
        "visualise.boxplot()\n",
        "plt.ylabel('Performace measure')\n",
        "plt.xticks(rotation=45)\n",
        "plt.show()"
      ],
      "metadata": {
        "colab": {
          "base_uri": "https://localhost:8080/",
          "height": 628
        },
        "id": "ROC7UzLcDke0",
        "outputId": "331c88a1-6d2d-4b80-a5f3-006b49de30de"
      },
      "execution_count": null,
      "outputs": [
        {
          "output_type": "stream",
          "name": "stdout",
          "text": [
            "Iteration number: 1\n",
            "Iteration number: 2\n",
            "Iteration number: 3\n",
            "Iteration number: 4\n",
            "Iteration number: 5\n",
            "Iteration number: 6\n",
            "Iteration number: 7\n",
            "Iteration number: 8\n",
            "Iteration number: 9\n",
            "Iteration number: 10\n",
            "\n",
            "Train F1 score after 10 fold CV: 0.59299 +/- 0.04204\n",
            "Test F1 score after 10 fold CV: 0.43611 +/- 0.24774\n",
            "Train kappa after 10 fold CV: 0.56479 +/- 0.04333\n",
            "Test Kappa after 10 fold CV: 0.41015 +/- 0.2402\n",
            "Train Accuracy after 10 fold CV: 0.93963 +/- 0.00471\n",
            "Test Accuracy after 10 fold CV: 0.9251 +/- 0.02157\n",
            "\n"
          ]
        },
        {
          "output_type": "display_data",
          "data": {
            "text/plain": [
              "<Figure size 432x288 with 1 Axes>"
            ],
            "image/png": "[encoded data removed]"
          },
          "metadata": {
            "needs_background": "light"
          }
        }
      ]
    },
    {
      "cell_type": "markdown",
      "source": [
        "**K-means clustering for original data**"
      ],
      "metadata": {
        "id": "ik-mJQ7GJv72"
      }
    },
    {
      "cell_type": "code",
      "source": [
        "# configuring min max sacling\n",
        "scale_minmax = MinMaxScaler()\n",
        "\n",
        "# Encoding target variable, 1 for satisfied and 0 for other\n",
        "df_heart['HeartDisease'] = np.where(df_heart['HeartDisease'] == 'No', 0, df_heart['HeartDisease'])\n",
        "df_heart['HeartDisease'] = np.where(df_heart['HeartDisease'] == 'Yes', 1, df_heart['HeartDisease'])"
      ],
      "metadata": {
        "id": "1-moCu40DkOH"
      },
      "execution_count": null,
      "outputs": []
    },
    {
      "cell_type": "code",
      "execution_count": null,
      "metadata": {
        "id": "Zd6fC46XC_yV",
        "colab": {
          "base_uri": "https://localhost:8080/",
          "height": 295
        },
        "outputId": "a55dbe0c-ce96-4fd3-de12-493d7c5d8cae"
      },
      "outputs": [
        {
          "output_type": "display_data",
          "data": {
            "text/plain": [
              "<Figure size 432x288 with 1 Axes>"
            ],
            "image/png": "[encoded data removed]"
          },
          "metadata": {
            "needs_background": "light"
          }
        }
      ],
      "source": [
        "# checking optimal value of k using elbow method\n",
        "df_heart_scale = pd.DataFrame(scale_minmax.fit_transform(df_heart), columns=df_heart.columns)\n",
        "\n",
        "# running k-means to find optimum k value\n",
        "\n",
        "WSS = [] # creating empty list for appending Within sum of squares\n",
        "K = range(1,8)\n",
        "for k in K:\n",
        "    k_means = KMeans(n_clusters=k,random_state=1)\n",
        "    K_means_model = k_means.fit(df_heart_scale)\n",
        "    WSS.append(K_means_model.inertia_)\n",
        "plt.plot(K, WSS, marker='o')\n",
        "plt.xlabel('Number of clusters')\n",
        "plt.ylabel('Sum of Squares')\n",
        "plt.title('Elbow Method to find optimal k value')\n",
        "plt.show()"
      ]
    },
    {
      "cell_type": "code",
      "source": [
        "# checking optimal value of k using silhoutte method\n",
        "K = range(2,8)\n",
        "No_of_clusters = []\n",
        "Silhouette_scores = []\n",
        "\n",
        "for k in K:\n",
        "  k_means = KMeans(n_clusters=k,random_state=1)\n",
        "  k_means.fit(df_heart_scale)\n",
        "  preds = k_means.labels_\n",
        "  centers = k_means.cluster_centers_\n",
        "  sil_score = silhouette_score(df_heart_scale,preds)\n",
        "  No_of_clusters.append(k)\n",
        "  Silhouette_scores.append(sil_score)\n",
        "  print(k)\n",
        "\n",
        "plt.xlabel('k')\n",
        "plt.ylabel('Silhouette coefficient')\n",
        "plt.title('Silhouette Method to find optimal k value')\n",
        "plt.bar(No_of_clusters,Silhouette_scores)\n",
        "plt.show()"
      ],
      "metadata": {
        "colab": {
          "base_uri": "https://localhost:8080/",
          "height": 399
        },
        "id": "cAfPIYfhKZTf",
        "outputId": "874cfad1-1f96-4246-c96b-b2486bafb880"
      },
      "execution_count": null,
      "outputs": [
        {
          "output_type": "stream",
          "name": "stdout",
          "text": [
            "2\n",
            "3\n",
            "4\n",
            "5\n",
            "6\n",
            "7\n"
          ]
        },
        {
          "output_type": "display_data",
          "data": {
            "text/plain": [
              "<Figure size 432x288 with 1 Axes>"
            ],
            "image/png": "[encoded data removed]"
          },
          "metadata": {
            "needs_background": "light"
          }
        }
      ]
    },
    {
      "cell_type": "code",
      "source": [
        "df_heart['HeartDisease'] = np.where(df_heart['HeartDisease'] == 0, 'No', df_heart['HeartDisease'])\n",
        "df_heart['HeartDisease'] = np.where(df_heart['HeartDisease'] == 1, 'Yes', df_heart['HeartDisease'])"
      ],
      "metadata": {
        "id": "DC5mJQYZKZRP"
      },
      "execution_count": null,
      "outputs": []
    },
    {
      "cell_type": "code",
      "source": [
        "# for original data\n",
        "\n",
        "# seperating target and features\n",
        "X = df_heart.drop(columns=['HeartDisease'],axis=1)\n",
        "y = df_heart['HeartDisease']\n",
        "\n",
        "# performing 10 fold stratified cross validation\n",
        "iteration_no = 1\n",
        "minority_class_samples_save = []\n",
        "centers_save = []\n",
        "train_f1 = []\n",
        "test_f1 = []\n",
        "Silhouette_scores = []\n",
        "for train_index, test_index in skf.split(X, y):\n",
        "  print('**********Iteration Number {}**********'.format(iteration_no))\n",
        "  x_train_fold, x_test_fold = X.iloc[train_index], X.iloc[test_index]\n",
        "  y_train_fold, y_test_fold = y.iloc[train_index], y.iloc[test_index]\n",
        "  df_train = x_train_fold.copy()\n",
        "  test_data = x_test_fold.copy()\n",
        "  test_data['HeartDisease'] = y_test_fold \n",
        "  df_train['HeartDisease'] = y_train_fold\n",
        "  df_train['HeartDisease'] = np.where(df_train['HeartDisease'] == 'No', 0, df_train['HeartDisease'])\n",
        "  df_train['HeartDisease'] = np.where(df_train['HeartDisease'] == 'Yes', 1, df_train['HeartDisease'])\n",
        "  test_data['HeartDisease'] = np.where(test_data['HeartDisease'] == 'No', 0, test_data['HeartDisease'])\n",
        "  test_data['HeartDisease'] = np.where(test_data['HeartDisease'] == 'Yes', 1, test_data['HeartDisease'])\n",
        "\n",
        "  df_train_scale = pd.DataFrame(scale_minmax.fit_transform(df_train), columns = df_heart.columns) \n",
        "  km_3 = KMeans(n_clusters=2,random_state=1)    # k=2 clusters using elbow and silhouette method\n",
        "  km_3.fit(df_train_scale)\n",
        "  centers = km_3.cluster_centers_\n",
        "  centers_save = np.append(centers_save, centers)\n",
        "  Cluster_3 = km_3.labels_\n",
        "  sil_score = silhouette_score(df_train_scale,Cluster_3)\n",
        "  print('Silhouette score:', round(sil_score,5))\n",
        "  Silhouette_scores.append(sil_score)\n",
        "  df_heart_cluster = df_train_scale.copy()\n",
        "  df_heart_cluster['Cluster'] = Cluster_3\n",
        "\n",
        "  # for cluster label 0\n",
        "  df_cluster0 = df_heart_cluster[df_heart_cluster['Cluster'] == 0]\n",
        "  minority_class_samples = df_cluster0.HeartDisease.value_counts().min()\n",
        "  minority_class_samples_save = np.append(minority_class_samples_save, minority_class_samples)\n",
        "  print('Minority class samples:',minority_class_samples)\n",
        "\n",
        "  if minority_class_samples != 0:\n",
        "    features = df_cluster0.drop(columns=['HeartDisease'], axis=1)\n",
        "    labels = df_cluster0['HeartDisease']\n",
        "    rf_model = RandomForestClassifier(n_estimators=100, max_features=4, max_depth=4, min_samples_leaf=5, min_samples_split=2, random_state=1)\n",
        "    rf_model.fit(features, labels)\n",
        "    #print('Train Data')\n",
        "    train_f1_cv = metrics.f1_score(labels, rf_model.predict(features), pos_label=0)\n",
        "    print('Train F1 {:.5f}'.format(train_f1_cv))\n",
        "    train_f1 = np.append(train_f1, train_f1_cv)\n",
        "    #print(metrics.classification_report(labels, rf_model.predict(features)))\n",
        "  else:\n",
        "    print('There are no samples of both classes, Hence classifier is not trained')\n",
        "\n",
        "  test_data_scale = pd.DataFrame(scale_minmax.transform(test_data), columns = df_heart.columns)\n",
        "  cluster_test_labels = km_3.fit_predict(test_data_scale)\n",
        "  test_data_scale['Cluster'] = cluster_test_labels\n",
        "\n",
        "  if minority_class_samples != 0:\n",
        "    X_test = test_data_scale.drop(columns=['HeartDisease'], axis=1)\n",
        "    y_test = test_data_scale['HeartDisease']\n",
        "    #print('\\nTest data')\n",
        "    test_f1_cv = metrics.f1_score(y_test, rf_model.predict(X_test), pos_label=0)\n",
        "    print('Test F1 {:.5f}'.format(test_f1_cv))\n",
        "    test_f1 = np.append(test_f1, test_f1_cv)\n",
        "    #print(metrics.classification_report(y_test, rf_model.predict(X_test)))\n",
        "  else:\n",
        "    print('There are no samples of both classes')\n",
        "  iteration_no += 1\n",
        "print('\\nMinority class samples during each iterations', minority_class_samples_save)\n",
        "print('Silhouette scores', round(np.mean(Silhouette_scores),5),'+/-', round(np.std(Silhouette_scores),5))\n",
        "print('Overall train F1 score', round(train_f1.mean(),5),'+/-', round(train_f1.std(),5))\n",
        "print('Overall test F1 score', round(test_f1.mean(),5),'+/-', round(test_f1.std(),5))\n",
        "train_f1_cluster0_org = train_f1\n",
        "test_f1_cluster0_org = test_f1"
      ],
      "metadata": {
        "colab": {
          "base_uri": "https://localhost:8080/"
        },
        "id": "XYGIG7QnKZO8",
        "outputId": "645b7531-091b-4ff0-9d6b-33daef4b3159"
      },
      "execution_count": null,
      "outputs": [
        {
          "output_type": "stream",
          "name": "stdout",
          "text": [
            "**********Iteration Number 1**********\n",
            "Silhouette score: 0.27441\n",
            "Minority class samples: 122\n",
            "Train F1 0.33113\n",
            "Test F1 0.19048\n",
            "**********Iteration Number 2**********\n",
            "Silhouette score: 0.27593\n",
            "Minority class samples: 67\n",
            "Train F1 0.11268\n",
            "Test F1 0.00000\n",
            "**********Iteration Number 3**********\n",
            "Silhouette score: 0.27101\n",
            "Minority class samples: 72\n",
            "Train F1 0.17500\n",
            "Test F1 0.09091\n",
            "**********Iteration Number 4**********\n",
            "Silhouette score: 0.27558\n",
            "Minority class samples: 71\n",
            "Train F1 0.10667\n",
            "Test F1 0.00000\n",
            "**********Iteration Number 5**********\n",
            "Silhouette score: 0.27909\n",
            "Minority class samples: 61\n",
            "Train F1 0.06349\n",
            "Test F1 0.00000\n",
            "**********Iteration Number 6**********\n",
            "Silhouette score: 0.26813\n",
            "Minority class samples: 98\n",
            "Train F1 0.11538\n",
            "Test F1 0.17391\n",
            "**********Iteration Number 7**********\n",
            "Silhouette score: 0.27452\n",
            "Minority class samples: 67\n",
            "Train F1 0.13889\n",
            "Test F1 0.08333\n",
            "**********Iteration Number 8**********\n",
            "Silhouette score: 0.27267\n",
            "Minority class samples: 73\n",
            "Train F1 0.10390\n",
            "Test F1 0.00000\n",
            "**********Iteration Number 9**********\n",
            "Silhouette score: 0.27069\n",
            "Minority class samples: 71\n",
            "Train F1 0.05479\n",
            "Test F1 0.00000\n",
            "**********Iteration Number 10**********\n",
            "Silhouette score: 0.26666\n",
            "Minority class samples: 100\n",
            "Train F1 0.09524\n",
            "Test F1 0.00000\n",
            "\n",
            "Minority class samples during each iterations [122.  67.  72.  71.  61.  98.  67.  73.  71. 100.]\n",
            "Silhouette scores 0.27287 +/- 0.0036\n",
            "Overall train F1 score 0.12972 +/- 0.07455\n",
            "Overall test F1 score 0.05386 +/- 0.07261\n"
          ]
        }
      ]
    },
    {
      "cell_type": "code",
      "source": [
        "# for original data\n",
        "\n",
        "# seperating target and features\n",
        "X = df_heart.drop(columns=['HeartDisease'],axis=1)\n",
        "y = df_heart['HeartDisease']\n",
        "\n",
        "# performing 10 fold stratified cross validation\n",
        "iteration_no = 1\n",
        "minority_class_samples_save = []\n",
        "centers_save = []\n",
        "train_f1 = []\n",
        "test_f1 = []\n",
        "Silhouette_scores = []\n",
        "for train_index, test_index in skf.split(X, y):\n",
        "  print('**********Iteration Number {}**********'.format(iteration_no))\n",
        "  x_train_fold, x_test_fold = X.iloc[train_index], X.iloc[test_index]\n",
        "  y_train_fold, y_test_fold = y.iloc[train_index], y.iloc[test_index]\n",
        "  df_train = x_train_fold.copy()\n",
        "  test_data = x_test_fold.copy()\n",
        "  test_data['HeartDisease'] = y_test_fold \n",
        "  df_train['HeartDisease'] = y_train_fold\n",
        "  df_train['HeartDisease'] = np.where(df_train['HeartDisease'] == 'No', 0, df_train['HeartDisease'])\n",
        "  df_train['HeartDisease'] = np.where(df_train['HeartDisease'] == 'Yes', 1, df_train['HeartDisease'])\n",
        "  test_data['HeartDisease'] = np.where(test_data['HeartDisease'] == 'No', 0, test_data['HeartDisease'])\n",
        "  test_data['HeartDisease'] = np.where(test_data['HeartDisease'] == 'Yes', 1, test_data['HeartDisease'])\n",
        "\n",
        "  df_train_scale = pd.DataFrame(scale_minmax.fit_transform(df_train), columns = df_heart.columns) \n",
        "  km_3 = KMeans(n_clusters=2,random_state=1)    # k=2 clusters using elbow and silhouette method\n",
        "  km_3.fit(df_train_scale)\n",
        "  centers = km_3.cluster_centers_\n",
        "  centers_save = np.append(centers_save, centers)\n",
        "  Cluster_3 = km_3.labels_\n",
        "  sil_score = silhouette_score(df_train_scale,Cluster_3)\n",
        "  print('Silhouette score:', round(sil_score,5))\n",
        "  Silhouette_scores.append(sil_score)\n",
        "  df_heart_cluster = df_train_scale.copy()\n",
        "  df_heart_cluster['Cluster'] = Cluster_3\n",
        "\n",
        "  # for cluster label 1\n",
        "  df_cluster0 = df_heart_cluster[df_heart_cluster['Cluster'] == 0]\n",
        "  minority_class_samples = df_cluster0.HeartDisease.value_counts().min()\n",
        "  minority_class_samples_save = np.append(minority_class_samples_save, minority_class_samples)\n",
        "  print('Minority class samples:',minority_class_samples)\n",
        "\n",
        "  if minority_class_samples != 0:\n",
        "    features = df_cluster0.drop(columns=['HeartDisease'], axis=1)\n",
        "    labels = df_cluster0['HeartDisease']\n",
        "    rf_model = RandomForestClassifier(n_estimators=100, max_features=4, max_depth=4, min_samples_leaf=5, min_samples_split=2, random_state=1)\n",
        "    rf_model.fit(features, labels)\n",
        "    #print('Train Data')\n",
        "    train_f1_cv = metrics.f1_score(labels, rf_model.predict(features), pos_label=1)\n",
        "    print('Train F1 {:.5f}'.format(train_f1_cv))\n",
        "    train_f1 = np.append(train_f1, train_f1_cv)\n",
        "    #print(metrics.classification_report(labels, rf_model.predict(features)))\n",
        "  else:\n",
        "    print('There are no samples of both classes, Hence classifier is not trained')\n",
        "\n",
        "  test_data_scale = pd.DataFrame(scale_minmax.transform(test_data), columns = df_heart.columns)\n",
        "  cluster_test_labels = km_3.fit_predict(test_data_scale)\n",
        "  test_data_scale['Cluster'] = cluster_test_labels\n",
        "\n",
        "  if minority_class_samples != 0:\n",
        "    X_test = test_data_scale.drop(columns=['HeartDisease'], axis=1)\n",
        "    y_test = test_data_scale['HeartDisease']\n",
        "    #print('\\nTest data')\n",
        "    test_f1_cv = metrics.f1_score(y_test, rf_model.predict(X_test), pos_label=0)\n",
        "    print('Test F1 {:.5f}'.format(test_f1_cv))\n",
        "    test_f1 = np.append(test_f1, test_f1_cv)\n",
        "    #print(metrics.classification_report(y_test, rf_model.predict(X_test)))\n",
        "  else:\n",
        "    print('There are no samples of both classes')\n",
        "  iteration_no += 1\n",
        "print('\\nMinority class samples during each iterations', minority_class_samples_save)\n",
        "print('Silhouette scores', round(np.mean(Silhouette_scores),5),'+/-', round(np.std(Silhouette_scores),5))\n",
        "print('Overall train F1 score', round(train_f1.mean(),5),'+/-', round(train_f1.std(),5))\n",
        "print('Overall test F1 score', round(test_f1.mean(),5),'+/-', round(test_f1.std(),5))\n",
        "train_f1_cluster1_org = train_f1\n",
        "test_f1_cluster1_org = test_f1"
      ],
      "metadata": {
        "colab": {
          "base_uri": "https://localhost:8080/"
        },
        "id": "zsVS-Sk8KZMW",
        "outputId": "ba2ccc80-0f5a-470e-98b7-61f57bace6d9"
      },
      "execution_count": null,
      "outputs": [
        {
          "output_type": "stream",
          "name": "stdout",
          "text": [
            "**********Iteration Number 1**********\n",
            "Silhouette score: 0.27441\n",
            "Minority class samples: 122\n",
            "Train F1 0.82435\n",
            "Test F1 0.19048\n",
            "**********Iteration Number 2**********\n",
            "Silhouette score: 0.27593\n",
            "Minority class samples: 67\n",
            "Train F1 0.92800\n",
            "Test F1 0.00000\n",
            "**********Iteration Number 3**********\n",
            "Silhouette score: 0.27101\n",
            "Minority class samples: 72\n",
            "Train F1 0.92124\n",
            "Test F1 0.09091\n",
            "**********Iteration Number 4**********\n",
            "Silhouette score: 0.27558\n",
            "Minority class samples: 71\n",
            "Train F1 0.92033\n",
            "Test F1 0.00000\n",
            "**********Iteration Number 5**********\n",
            "Silhouette score: 0.27909\n",
            "Minority class samples: 61\n",
            "Train F1 0.93273\n",
            "Test F1 0.00000\n",
            "**********Iteration Number 6**********\n",
            "Silhouette score: 0.26813\n",
            "Minority class samples: 98\n",
            "Train F1 0.85535\n",
            "Test F1 0.17391\n",
            "**********Iteration Number 7**********\n",
            "Silhouette score: 0.27452\n",
            "Minority class samples: 67\n",
            "Train F1 0.93018\n",
            "Test F1 0.08333\n",
            "**********Iteration Number 8**********\n",
            "Silhouette score: 0.27267\n",
            "Minority class samples: 73\n",
            "Train F1 0.92203\n",
            "Test F1 0.00000\n",
            "**********Iteration Number 9**********\n",
            "Silhouette score: 0.27069\n",
            "Minority class samples: 71\n",
            "Train F1 0.91873\n",
            "Test F1 0.00000\n",
            "**********Iteration Number 10**********\n",
            "Silhouette score: 0.26666\n",
            "Minority class samples: 100\n",
            "Train F1 0.84800\n",
            "Test F1 0.00000\n",
            "\n",
            "Minority class samples during each iterations [122.  67.  72.  71.  61.  98.  67.  73.  71. 100.]\n",
            "Silhouette scores 0.27287 +/- 0.0036\n",
            "Overall train F1 score 0.90009 +/- 0.03858\n",
            "Overall test F1 score 0.05386 +/- 0.07261\n"
          ]
        }
      ]
    },
    {
      "cell_type": "markdown",
      "source": [
        "**K-means clustering for low imbalance data**"
      ],
      "metadata": {
        "id": "HEiYBz-ZNej2"
      }
    },
    {
      "cell_type": "code",
      "source": [
        "# configuring min max sacling\n",
        "scale_minmax = MinMaxScaler()\n",
        "\n",
        "# Encoding target variable, 1 for satisfied and 0 for other\n",
        "df_heart_65['HeartDisease'] = np.where(df_heart_65['HeartDisease'] == 'No', 0, df_heart_65['HeartDisease'])\n",
        "df_heart_65['HeartDisease'] = np.where(df_heart_65['HeartDisease'] == 'Yes', 1, df_heart_65['HeartDisease'])"
      ],
      "metadata": {
        "id": "lsQ37aivKZKA"
      },
      "execution_count": null,
      "outputs": []
    },
    {
      "cell_type": "code",
      "source": [
        "# checking optimal value of k using elbow method\n",
        "df_heart_scale = pd.DataFrame(scale_minmax.fit_transform(df_heart_65), columns=df_heart_65.columns)\n",
        "\n",
        "# running k-means to find optimum k value\n",
        "\n",
        "WSS = [] # creating empty list for appending Within sum of squares\n",
        "K = range(1,8)\n",
        "for k in K:\n",
        "    k_means = KMeans(n_clusters=k,random_state=1)\n",
        "    K_means_model = k_means.fit(df_heart_scale)\n",
        "    WSS.append(K_means_model.inertia_)\n",
        "plt.plot(K, WSS, marker='o')\n",
        "plt.xlabel('Number of clusters')\n",
        "plt.ylabel('Sum of Squares')\n",
        "plt.title('Elbow Method to find optimal k value')\n",
        "plt.show()"
      ],
      "metadata": {
        "colab": {
          "base_uri": "https://localhost:8080/",
          "height": 295
        },
        "id": "_-NdIOtWKZHN",
        "outputId": "8579c21f-337c-4407-bf5c-f56d754b7070"
      },
      "execution_count": null,
      "outputs": [
        {
          "output_type": "display_data",
          "data": {
            "text/plain": [
              "<Figure size 432x288 with 1 Axes>"
            ],
            "image/png": "[encoded data removed]"
          },
          "metadata": {
            "needs_background": "light"
          }
        }
      ]
    },
    {
      "cell_type": "code",
      "source": [
        "# checking optimal value of k using silhoutte method\n",
        "K = range(2,8)\n",
        "No_of_clusters = []\n",
        "Silhouette_scores = []\n",
        "\n",
        "for k in K:\n",
        "  k_means = KMeans(n_clusters=k,random_state=1)\n",
        "  k_means.fit(df_heart_scale)\n",
        "  preds = k_means.labels_\n",
        "  centers = k_means.cluster_centers_\n",
        "  sil_score = silhouette_score(df_heart_scale,preds)\n",
        "  No_of_clusters.append(k)\n",
        "  Silhouette_scores.append(sil_score)\n",
        "  print(k)\n",
        "\n",
        "plt.xlabel('k')\n",
        "plt.ylabel('Silhouette coefficient')\n",
        "plt.title('Silhouette Method to find optimal k value')\n",
        "plt.bar(No_of_clusters,Silhouette_scores)\n",
        "plt.show()"
      ],
      "metadata": {
        "colab": {
          "base_uri": "https://localhost:8080/",
          "height": 399
        },
        "id": "TabKEpMwKZE1",
        "outputId": "94930712-4800-478c-e80f-bb1fc863fcf1"
      },
      "execution_count": null,
      "outputs": [
        {
          "output_type": "stream",
          "name": "stdout",
          "text": [
            "2\n",
            "3\n",
            "4\n",
            "5\n",
            "6\n",
            "7\n"
          ]
        },
        {
          "output_type": "display_data",
          "data": {
            "text/plain": [
              "<Figure size 432x288 with 1 Axes>"
            ],
            "image/png": "[encoded data removed]"
          },
          "metadata": {
            "needs_background": "light"
          }
        }
      ]
    },
    {
      "cell_type": "code",
      "source": [
        "df_heart_65['HeartDisease'] = np.where(df_heart_65['HeartDisease'] == 0, 'No', df_heart_65['HeartDisease'])\n",
        "df_heart_65['HeartDisease'] = np.where(df_heart_65['HeartDisease'] == 1, 'Yes', df_heart_65['HeartDisease'])"
      ],
      "metadata": {
        "id": "bztlqd2OKZB1"
      },
      "execution_count": null,
      "outputs": []
    },
    {
      "cell_type": "code",
      "source": [
        "# for low imbalance data\n",
        "\n",
        "# seperating target and features\n",
        "X = df_heart_65.drop(columns=['HeartDisease'],axis=1)\n",
        "y = df_heart_65['HeartDisease']\n",
        "\n",
        "# performing 10 fold stratified cross validation\n",
        "iteration_no = 1\n",
        "minority_class_samples_save = []\n",
        "centers_save = []\n",
        "train_f1 = []\n",
        "test_f1 = []\n",
        "Silhouette_scores = []\n",
        "for train_index, test_index in skf.split(X, y):\n",
        "  print('**********Iteration Number {}**********'.format(iteration_no))\n",
        "  x_train_fold, x_test_fold = X.iloc[train_index], X.iloc[test_index]\n",
        "  y_train_fold, y_test_fold = y.iloc[train_index], y.iloc[test_index]\n",
        "  df_train = x_train_fold.copy()\n",
        "  test_data = x_test_fold.copy()\n",
        "  test_data['HeartDisease'] = y_test_fold \n",
        "  df_train['HeartDisease'] = y_train_fold\n",
        "  df_train['HeartDisease'] = np.where(df_train['HeartDisease'] == 'No', 0, df_train['HeartDisease'])\n",
        "  df_train['HeartDisease'] = np.where(df_train['HeartDisease'] == 'Yes', 1, df_train['HeartDisease'])\n",
        "  test_data['HeartDisease'] = np.where(test_data['HeartDisease'] == 'No', 0, test_data['HeartDisease'])\n",
        "  test_data['HeartDisease'] = np.where(test_data['HeartDisease'] == 'Yes', 1, test_data['HeartDisease'])\n",
        "\n",
        "  df_train_scale = pd.DataFrame(scale_minmax.fit_transform(df_train), columns = df_heart_65.columns) \n",
        "  km_3 = KMeans(n_clusters=2,random_state=1)    # k=2 clusters using elbow and silhouette method\n",
        "  km_3.fit(df_train_scale)\n",
        "  centers = km_3.cluster_centers_\n",
        "  centers_save = np.append(centers_save, centers)\n",
        "  Cluster_3 = km_3.labels_\n",
        "  sil_score = silhouette_score(df_train_scale,Cluster_3)\n",
        "  print('Silhouette score:', round(sil_score,5))\n",
        "  Silhouette_scores.append(sil_score)\n",
        "  df_heart_cluster = df_train_scale.copy()\n",
        "  df_heart_cluster['Cluster'] = Cluster_3\n",
        "\n",
        "  # for cluster label 0\n",
        "  df_cluster0 = df_heart_cluster[df_heart_cluster['Cluster'] == 0]\n",
        "  minority_class_samples = df_cluster0.HeartDisease.value_counts().min()\n",
        "  minority_class_samples_save = np.append(minority_class_samples_save, minority_class_samples)\n",
        "  print('Minority class samples:',minority_class_samples)\n",
        "\n",
        "  if minority_class_samples != 0:\n",
        "    features = df_cluster0.drop(columns=['HeartDisease'], axis=1)\n",
        "    labels = df_cluster0['HeartDisease']\n",
        "    rf_model = RandomForestClassifier(n_estimators=100, max_features=4, max_depth=4, min_samples_leaf=5, min_samples_split=2, random_state=1)\n",
        "    rf_model.fit(features, labels)\n",
        "    #print('Train Data')\n",
        "    train_f1_cv = metrics.f1_score(labels, rf_model.predict(features), pos_label=0)\n",
        "    print('Train F1 {:.5f}'.format(train_f1_cv))\n",
        "    train_f1 = np.append(train_f1, train_f1_cv)\n",
        "    #print(metrics.classification_report(labels, rf_model.predict(features)))\n",
        "  else:\n",
        "    print('There are no samples of both classes, Hence classifier is not trained')\n",
        "\n",
        "  test_data_scale = pd.DataFrame(scale_minmax.transform(test_data), columns = df_heart_65.columns)\n",
        "  cluster_test_labels = km_3.fit_predict(test_data_scale)\n",
        "  test_data_scale['Cluster'] = cluster_test_labels\n",
        "\n",
        "  if minority_class_samples != 0:\n",
        "    X_test = test_data_scale.drop(columns=['HeartDisease'], axis=1)\n",
        "    y_test = test_data_scale['HeartDisease']\n",
        "    #print('\\nTest data')\n",
        "    test_f1_cv = metrics.f1_score(y_test, rf_model.predict(X_test), pos_label=0)\n",
        "    print('Test F1 {:.5f}'.format(test_f1_cv))\n",
        "    test_f1 = np.append(test_f1, test_f1_cv)\n",
        "    #print(metrics.classification_report(y_test, rf_model.predict(X_test)))\n",
        "  else:\n",
        "    print('There are no samples of both classes')\n",
        "  iteration_no += 1\n",
        "print('\\nMinority class samples during each iterations', minority_class_samples_save)\n",
        "print('Silhouette scores', round(np.mean(Silhouette_scores),5),'+/-', round(np.std(Silhouette_scores),5))\n",
        "print('Overall train F1 score', round(train_f1.mean(),5),'+/-', round(train_f1.std(),5))\n",
        "print('Overall test F1 score', round(test_f1.mean(),5),'+/-', round(test_f1.std(),5))\n",
        "train_f1_cluster0_low = train_f1\n",
        "test_f1_cluster0_low = test_f1"
      ],
      "metadata": {
        "colab": {
          "base_uri": "https://localhost:8080/"
        },
        "id": "LYdTwCwAOTf2",
        "outputId": "89af38b7-5541-486c-db03-b0010b26748b"
      },
      "execution_count": null,
      "outputs": [
        {
          "output_type": "stream",
          "name": "stdout",
          "text": [
            "**********Iteration Number 1**********\n",
            "Silhouette score: 0.27207\n",
            "Minority class samples: 39\n",
            "Train F1 0.93238\n",
            "Test F1 0.65455\n",
            "**********Iteration Number 2**********\n",
            "Silhouette score: 0.28071\n",
            "Minority class samples: 35\n",
            "Train F1 0.92667\n",
            "Test F1 0.63158\n",
            "**********Iteration Number 3**********\n",
            "Silhouette score: 0.27095\n",
            "Minority class samples: 25\n",
            "Train F1 0.00000\n",
            "Test F1 0.00000\n",
            "**********Iteration Number 4**********\n",
            "Silhouette score: 0.27768\n",
            "Minority class samples: 44\n",
            "Train F1 0.93662\n",
            "Test F1 0.68182\n",
            "**********Iteration Number 5**********\n",
            "Silhouette score: 0.27836\n",
            "Minority class samples: 30\n",
            "Train F1 0.92557\n",
            "Test F1 0.63158\n",
            "**********Iteration Number 6**********\n",
            "Silhouette score: 0.26986\n",
            "Minority class samples: 26\n",
            "Train F1 0.20690\n",
            "Test F1 0.00000\n",
            "**********Iteration Number 7**********\n",
            "Silhouette score: 0.27061\n",
            "Minority class samples: 53\n",
            "Train F1 0.92527\n",
            "Test F1 0.81818\n",
            "**********Iteration Number 8**********\n",
            "Silhouette score: 0.27232\n",
            "Minority class samples: 48\n",
            "Train F1 0.94928\n",
            "Test F1 0.72340\n",
            "**********Iteration Number 9**********\n",
            "Silhouette score: 0.27492\n",
            "Minority class samples: 49\n",
            "Train F1 0.93793\n",
            "Test F1 0.71429\n",
            "**********Iteration Number 10**********\n",
            "Silhouette score: 0.26961\n",
            "Minority class samples: 26\n",
            "Train F1 0.14286\n",
            "Test F1 0.00000\n",
            "\n",
            "Minority class samples during each iterations [39. 35. 25. 44. 30. 26. 53. 48. 49. 26.]\n",
            "Silhouette scores 0.27371 +/- 0.00376\n",
            "Overall train F1 score 0.68835 +/- 0.37735\n",
            "Overall test F1 score 0.48554 +/- 0.32195\n"
          ]
        }
      ]
    },
    {
      "cell_type": "code",
      "source": [
        "# for low imbalance data\n",
        "\n",
        "# seperating target and features\n",
        "X = df_heart_65.drop(columns=['HeartDisease'],axis=1)\n",
        "y = df_heart_65['HeartDisease']\n",
        "\n",
        "# performing 10 fold stratified cross validation\n",
        "iteration_no = 1\n",
        "minority_class_samples_save = []\n",
        "centers_save = []\n",
        "train_f1 = []\n",
        "test_f1 = []\n",
        "Silhouette_scores = []\n",
        "for train_index, test_index in skf.split(X, y):\n",
        "  print('**********Iteration Number {}**********'.format(iteration_no))\n",
        "  x_train_fold, x_test_fold = X.iloc[train_index], X.iloc[test_index]\n",
        "  y_train_fold, y_test_fold = y.iloc[train_index], y.iloc[test_index]\n",
        "  df_train = x_train_fold.copy()\n",
        "  test_data = x_test_fold.copy()\n",
        "  test_data['HeartDisease'] = y_test_fold \n",
        "  df_train['HeartDisease'] = y_train_fold\n",
        "  df_train['HeartDisease'] = np.where(df_train['HeartDisease'] == 'No', 0, df_train['HeartDisease'])\n",
        "  df_train['HeartDisease'] = np.where(df_train['HeartDisease'] == 'Yes', 1, df_train['HeartDisease'])\n",
        "  test_data['HeartDisease'] = np.where(test_data['HeartDisease'] == 'No', 0, test_data['HeartDisease'])\n",
        "  test_data['HeartDisease'] = np.where(test_data['HeartDisease'] == 'Yes', 1, test_data['HeartDisease'])\n",
        "\n",
        "  df_train_scale = pd.DataFrame(scale_minmax.fit_transform(df_train), columns = df_heart_65.columns) \n",
        "  km_3 = KMeans(n_clusters=2,random_state=1)    # k=2 clusters using elbow and silhouette method\n",
        "  km_3.fit(df_train_scale)\n",
        "  centers = km_3.cluster_centers_\n",
        "  centers_save = np.append(centers_save, centers)\n",
        "  Cluster_3 = km_3.labels_\n",
        "  sil_score = silhouette_score(df_train_scale,Cluster_3)\n",
        "  print('Silhouette score:', round(sil_score,5))\n",
        "  Silhouette_scores.append(sil_score)\n",
        "  df_heart_cluster = df_train_scale.copy()\n",
        "  df_heart_cluster['Cluster'] = Cluster_3\n",
        "\n",
        "  # for cluster label 1\n",
        "  df_cluster0 = df_heart_cluster[df_heart_cluster['Cluster'] == 1]\n",
        "  minority_class_samples = df_cluster0.HeartDisease.value_counts().min()\n",
        "  minority_class_samples_save = np.append(minority_class_samples_save, minority_class_samples)\n",
        "  print('Minority class samples:',minority_class_samples)\n",
        "\n",
        "  if minority_class_samples != 0:\n",
        "    features = df_cluster0.drop(columns=['HeartDisease'], axis=1)\n",
        "    labels = df_cluster0['HeartDisease']\n",
        "    rf_model = RandomForestClassifier(n_estimators=100, max_features=4, max_depth=4, min_samples_leaf=5, min_samples_split=2, random_state=1)\n",
        "    rf_model.fit(features, labels)\n",
        "    #print('Train Data')\n",
        "    train_f1_cv = metrics.f1_score(labels, rf_model.predict(features), pos_label=0)\n",
        "    print('Train F1 {:.5f}'.format(train_f1_cv))\n",
        "    train_f1 = np.append(train_f1, train_f1_cv)\n",
        "    #print(metrics.classification_report(labels, rf_model.predict(features)))\n",
        "  else:\n",
        "    print('There are no samples of both classes, Hence classifier is not trained')\n",
        "\n",
        "  test_data_scale = pd.DataFrame(scale_minmax.transform(test_data), columns = df_heart_65.columns)\n",
        "  cluster_test_labels = km_3.fit_predict(test_data_scale)\n",
        "  test_data_scale['Cluster'] = cluster_test_labels\n",
        "\n",
        "  if minority_class_samples != 0:\n",
        "    X_test = test_data_scale.drop(columns=['HeartDisease'], axis=1)\n",
        "    y_test = test_data_scale['HeartDisease']\n",
        "    #print('\\nTest data')\n",
        "    test_f1_cv = metrics.f1_score(y_test, rf_model.predict(X_test), pos_label=0)\n",
        "    print('Test F1 {:.5f}'.format(test_f1_cv))\n",
        "    test_f1 = np.append(test_f1, test_f1_cv)\n",
        "    #print(metrics.classification_report(y_test, rf_model.predict(X_test)))\n",
        "  else:\n",
        "    print('There are no samples of both classes')\n",
        "  iteration_no += 1\n",
        "print('\\nMinority class samples during each iterations', minority_class_samples_save)\n",
        "print('Silhouette scores', round(np.mean(Silhouette_scores),5),'+/-', round(np.std(Silhouette_scores),5))\n",
        "print('Overall train F1 score', round(train_f1.mean(),5),'+/-', round(train_f1.std(),5))\n",
        "print('Overall test F1 score', round(test_f1.mean(),5),'+/-', round(test_f1.std(),5))\n",
        "train_f1_cluster1_low = train_f1\n",
        "test_f1_cluster1_low = test_f1"
      ],
      "metadata": {
        "colab": {
          "base_uri": "https://localhost:8080/"
        },
        "id": "wzdFOu-uOTdY",
        "outputId": "1712d794-6fee-42f8-8725-e859863860f8"
      },
      "execution_count": null,
      "outputs": [
        {
          "output_type": "stream",
          "name": "stdout",
          "text": [
            "**********Iteration Number 1**********\n",
            "Silhouette score: 0.27207\n",
            "Minority class samples: 27\n",
            "Train F1 0.25806\n",
            "Test F1 0.10000\n",
            "**********Iteration Number 2**********\n",
            "Silhouette score: 0.28071\n",
            "Minority class samples: 19\n",
            "Train F1 0.00000\n",
            "Test F1 0.00000\n",
            "**********Iteration Number 3**********\n",
            "Silhouette score: 0.27095\n",
            "Minority class samples: 49\n",
            "Train F1 0.93286\n",
            "Test F1 0.73913\n",
            "**********Iteration Number 4**********\n",
            "Silhouette score: 0.27768\n",
            "Minority class samples: 24\n",
            "Train F1 0.15385\n",
            "Test F1 0.00000\n",
            "**********Iteration Number 5**********\n",
            "Silhouette score: 0.27836\n",
            "Minority class samples: 15\n",
            "Train F1 0.00000\n",
            "Test F1 0.00000\n",
            "**********Iteration Number 6**********\n",
            "Silhouette score: 0.26986\n",
            "Minority class samples: 49\n",
            "Train F1 0.93950\n",
            "Test F1 0.72340\n",
            "**********Iteration Number 7**********\n",
            "Silhouette score: 0.27061\n",
            "Minority class samples: 27\n",
            "Train F1 0.00000\n",
            "Test F1 0.00000\n",
            "**********Iteration Number 8**********\n",
            "Silhouette score: 0.27232\n",
            "Minority class samples: 28\n",
            "Train F1 0.24242\n",
            "Test F1 0.00000\n",
            "**********Iteration Number 9**********\n",
            "Silhouette score: 0.27492\n",
            "Minority class samples: 23\n",
            "Train F1 0.08333\n",
            "Test F1 0.00000\n",
            "**********Iteration Number 10**********\n",
            "Silhouette score: 0.26961\n",
            "Minority class samples: 51\n",
            "Train F1 0.93662\n",
            "Test F1 0.72340\n",
            "\n",
            "Minority class samples during each iterations [27. 19. 49. 24. 15. 49. 27. 28. 23. 51.]\n",
            "Silhouette scores 0.27371 +/- 0.00376\n",
            "Overall train F1 score 0.35467 +/- 0.39093\n",
            "Overall test F1 score 0.22859 +/- 0.32869\n"
          ]
        }
      ]
    },
    {
      "cell_type": "markdown",
      "source": [
        "**K-means clustering for med imbalance data**"
      ],
      "metadata": {
        "id": "1wjDZbKwPBP_"
      }
    },
    {
      "cell_type": "code",
      "source": [
        "# configuring min max sacling\n",
        "scale_minmax = MinMaxScaler()\n",
        "\n",
        "# Encoding target variable, 1 for satisfied and 0 for other\n",
        "df_heart_75['HeartDisease'] = np.where(df_heart_75['HeartDisease'] == 'No', 0, df_heart_75['HeartDisease'])\n",
        "df_heart_75['HeartDisease'] = np.where(df_heart_75['HeartDisease'] == 'Yes', 1, df_heart_75['HeartDisease'])"
      ],
      "metadata": {
        "id": "O5wpDw6gOTal"
      },
      "execution_count": null,
      "outputs": []
    },
    {
      "cell_type": "code",
      "source": [
        "# checking optimal value of k using elbow method\n",
        "df_heart_scale = pd.DataFrame(scale_minmax.fit_transform(df_heart_75), columns=df_heart_75.columns)\n",
        "\n",
        "# running k-means to find optimum k value\n",
        "\n",
        "WSS = [] # creating empty list for appending Within sum of squares\n",
        "K = range(1,8)\n",
        "for k in K:\n",
        "    k_means = KMeans(n_clusters=k,random_state=1)\n",
        "    K_means_model = k_means.fit(df_heart_scale)\n",
        "    WSS.append(K_means_model.inertia_)\n",
        "plt.plot(K, WSS, marker='o')\n",
        "plt.xlabel('Number of clusters')\n",
        "plt.ylabel('Sum of Squares')\n",
        "plt.title('Elbow Method to find optimal k value')\n",
        "plt.show()"
      ],
      "metadata": {
        "colab": {
          "base_uri": "https://localhost:8080/",
          "height": 295
        },
        "id": "W3vxJnzZOTX6",
        "outputId": "2d78d26a-bd55-41a8-de63-84d993e1ecd3"
      },
      "execution_count": null,
      "outputs": [
        {
          "output_type": "display_data",
          "data": {
            "text/plain": [
              "<Figure size 432x288 with 1 Axes>"
            ],
            "image/png": "[encoded data removed]"
          },
          "metadata": {
            "needs_background": "light"
          }
        }
      ]
    },
    {
      "cell_type": "code",
      "source": [
        "# checking optimal value of k using silhoutte method\n",
        "K = range(2,8)\n",
        "No_of_clusters = []\n",
        "Silhouette_scores = []\n",
        "\n",
        "for k in K:\n",
        "  k_means = KMeans(n_clusters=k,random_state=1)\n",
        "  k_means.fit(df_heart_scale)\n",
        "  preds = k_means.labels_\n",
        "  centers = k_means.cluster_centers_\n",
        "  sil_score = silhouette_score(df_heart_scale,preds)\n",
        "  No_of_clusters.append(k)\n",
        "  Silhouette_scores.append(sil_score)\n",
        "  print(k)\n",
        "\n",
        "plt.xlabel('k')\n",
        "plt.ylabel('Silhouette coefficient')\n",
        "plt.title('Silhouette Method to find optimal k value')\n",
        "plt.bar(No_of_clusters,Silhouette_scores)\n",
        "plt.show()"
      ],
      "metadata": {
        "colab": {
          "base_uri": "https://localhost:8080/",
          "height": 399
        },
        "id": "eNHfUw2QOTVN",
        "outputId": "4666e7f8-13c5-4474-f12c-04d702b101c6"
      },
      "execution_count": null,
      "outputs": [
        {
          "output_type": "stream",
          "name": "stdout",
          "text": [
            "2\n",
            "3\n",
            "4\n",
            "5\n",
            "6\n",
            "7\n"
          ]
        },
        {
          "output_type": "display_data",
          "data": {
            "text/plain": [
              "<Figure size 432x288 with 1 Axes>"
            ],
            "image/png": "[encoded data removed]"
          },
          "metadata": {
            "needs_background": "light"
          }
        }
      ]
    },
    {
      "cell_type": "code",
      "source": [
        "df_heart_75['HeartDisease'] = np.where(df_heart_75['HeartDisease'] == 0, 'No', df_heart_75['HeartDisease'])\n",
        "df_heart_75['HeartDisease'] = np.where(df_heart_75['HeartDisease'] == 1, 'Yes', df_heart_75['HeartDisease'])"
      ],
      "metadata": {
        "id": "4afKgKD8OTSn"
      },
      "execution_count": null,
      "outputs": []
    },
    {
      "cell_type": "code",
      "source": [
        "# for med imbalance data\n",
        "\n",
        "# seperating target and features\n",
        "X = df_heart_75.drop(columns=['HeartDisease'],axis=1)\n",
        "y = df_heart_75['HeartDisease']\n",
        "\n",
        "# performing 10 fold stratified cross validation\n",
        "iteration_no = 1\n",
        "minority_class_samples_save = []\n",
        "centers_save = []\n",
        "train_f1 = []\n",
        "test_f1 = []\n",
        "Silhouette_scores = []\n",
        "for train_index, test_index in skf.split(X, y):\n",
        "  print('**********Iteration Number {}**********'.format(iteration_no))\n",
        "  x_train_fold, x_test_fold = X.iloc[train_index], X.iloc[test_index]\n",
        "  y_train_fold, y_test_fold = y.iloc[train_index], y.iloc[test_index]\n",
        "  df_train = x_train_fold.copy()\n",
        "  test_data = x_test_fold.copy()\n",
        "  test_data['HeartDisease'] = y_test_fold \n",
        "  df_train['HeartDisease'] = y_train_fold\n",
        "  df_train['HeartDisease'] = np.where(df_train['HeartDisease'] == 'No', 0, df_train['HeartDisease'])\n",
        "  df_train['HeartDisease'] = np.where(df_train['HeartDisease'] == 'Yes', 1, df_train['HeartDisease'])\n",
        "  test_data['HeartDisease'] = np.where(test_data['HeartDisease'] == 'No', 0, test_data['HeartDisease'])\n",
        "  test_data['HeartDisease'] = np.where(test_data['HeartDisease'] == 'Yes', 1, test_data['HeartDisease'])\n",
        "\n",
        "  df_train_scale = pd.DataFrame(scale_minmax.fit_transform(df_train), columns = df_heart_75.columns) \n",
        "  km_3 = KMeans(n_clusters=2,random_state=1)    # k=2 clusters using elbow and silhouette method\n",
        "  km_3.fit(df_train_scale)\n",
        "  centers = km_3.cluster_centers_\n",
        "  centers_save = np.append(centers_save, centers)\n",
        "  Cluster_3 = km_3.labels_\n",
        "  sil_score = silhouette_score(df_train_scale,Cluster_3)\n",
        "  print('Silhouette score:', round(sil_score,5))\n",
        "  Silhouette_scores.append(sil_score)\n",
        "  df_heart_cluster = df_train_scale.copy()\n",
        "  df_heart_cluster['Cluster'] = Cluster_3\n",
        "\n",
        "  # for cluster label 0\n",
        "  df_cluster0 = df_heart_cluster[df_heart_cluster['Cluster'] == 0]\n",
        "  minority_class_samples = df_cluster0.HeartDisease.value_counts().min()\n",
        "  minority_class_samples_save = np.append(minority_class_samples_save, minority_class_samples)\n",
        "  print('Minority class samples:',minority_class_samples)\n",
        "\n",
        "  if minority_class_samples != 0:\n",
        "    features = df_cluster0.drop(columns=['HeartDisease'], axis=1)\n",
        "    labels = df_cluster0['HeartDisease']\n",
        "    rf_model = RandomForestClassifier(n_estimators=100, max_features=4, max_depth=4, min_samples_leaf=5, min_samples_split=2, random_state=1)\n",
        "    rf_model.fit(features, labels)\n",
        "    #print('Train Data')\n",
        "    train_f1_cv = metrics.f1_score(labels, rf_model.predict(features), pos_label=0)\n",
        "    print('Train F1 {:.5f}'.format(train_f1_cv))\n",
        "    train_f1 = np.append(train_f1, train_f1_cv)\n",
        "    #print(metrics.classification_report(labels, rf_model.predict(features)))\n",
        "  else:\n",
        "    print('There are no samples of both classes, Hence classifier is not trained')\n",
        "\n",
        "  test_data_scale = pd.DataFrame(scale_minmax.transform(test_data), columns = df_heart_75.columns)\n",
        "  cluster_test_labels = km_3.fit_predict(test_data_scale)\n",
        "  test_data_scale['Cluster'] = cluster_test_labels\n",
        "\n",
        "  if minority_class_samples != 0:\n",
        "    X_test = test_data_scale.drop(columns=['HeartDisease'], axis=1)\n",
        "    y_test = test_data_scale['HeartDisease']\n",
        "    #print('\\nTest data')\n",
        "    test_f1_cv = metrics.f1_score(y_test, rf_model.predict(X_test), pos_label=0)\n",
        "    print('Test F1 {:.5f}'.format(test_f1_cv))\n",
        "    test_f1 = np.append(test_f1, test_f1_cv)\n",
        "    #print(metrics.classification_report(y_test, rf_model.predict(X_test)))\n",
        "  else:\n",
        "    print('There are no samples of both classes')\n",
        "  iteration_no += 1\n",
        "print('\\nMinority class samples during each iterations', minority_class_samples_save)\n",
        "print('Silhouette scores', round(np.mean(Silhouette_scores),5),'+/-', round(np.std(Silhouette_scores),5))\n",
        "print('Overall train F1 score', round(train_f1.mean(),5),'+/-', round(train_f1.std(),5))\n",
        "print('Overall test F1 score', round(test_f1.mean(),5),'+/-', round(test_f1.std(),5))\n",
        "train_f1_cluster0_med = train_f1\n",
        "test_f1_cluster0_med = test_f1"
      ],
      "metadata": {
        "colab": {
          "base_uri": "https://localhost:8080/"
        },
        "id": "CpuPj3EiOTP9",
        "outputId": "2c35eef1-b007-476e-9161-0b0bf4aa53eb"
      },
      "execution_count": null,
      "outputs": [
        {
          "output_type": "stream",
          "name": "stdout",
          "text": [
            "**********Iteration Number 1**********\n",
            "Silhouette score: 0.26825\n",
            "Minority class samples: 58\n",
            "Train F1 0.94175\n",
            "Test F1 0.64516\n",
            "**********Iteration Number 2**********\n",
            "Silhouette score: 0.27533\n",
            "Minority class samples: 55\n",
            "Train F1 0.93137\n",
            "Test F1 0.68750\n",
            "**********Iteration Number 3**********\n",
            "Silhouette score: 0.27413\n",
            "Minority class samples: 59\n",
            "Train F1 0.92754\n",
            "Test F1 0.77419\n",
            "**********Iteration Number 4**********\n",
            "Silhouette score: 0.27332\n",
            "Minority class samples: 53\n",
            "Train F1 0.95431\n",
            "Test F1 0.51429\n",
            "**********Iteration Number 5**********\n",
            "Silhouette score: 0.26359\n",
            "Minority class samples: 58\n",
            "Train F1 0.93069\n",
            "Test F1 0.72727\n",
            "**********Iteration Number 6**********\n",
            "Silhouette score: 0.27187\n",
            "Minority class samples: 58\n",
            "Train F1 0.93137\n",
            "Test F1 0.74286\n",
            "**********Iteration Number 7**********\n",
            "Silhouette score: 0.27379\n",
            "Minority class samples: 51\n",
            "Train F1 0.91707\n",
            "Test F1 0.65000\n",
            "**********Iteration Number 8**********\n",
            "Silhouette score: 0.2705\n",
            "Minority class samples: 52\n",
            "Train F1 0.94059\n",
            "Test F1 0.68750\n",
            "**********Iteration Number 9**********\n",
            "Silhouette score: 0.27064\n",
            "Minority class samples: 57\n",
            "Train F1 0.93137\n",
            "Test F1 0.66667\n",
            "**********Iteration Number 10**********\n",
            "Silhouette score: 0.27282\n",
            "Minority class samples: 57\n",
            "Train F1 0.94059\n",
            "Test F1 0.74074\n",
            "\n",
            "Minority class samples during each iterations [58. 55. 59. 53. 58. 58. 51. 52. 57. 57.]\n",
            "Silhouette scores 0.27142 +/- 0.00327\n",
            "Overall train F1 score 0.93467 +/- 0.00957\n",
            "Overall test F1 score 0.68362 +/- 0.06963\n"
          ]
        }
      ]
    },
    {
      "cell_type": "code",
      "source": [
        "# for med imbalance data\n",
        "\n",
        "# seperating target and features\n",
        "X = df_heart_75.drop(columns=['HeartDisease'],axis=1)\n",
        "y = df_heart_75['HeartDisease']\n",
        "\n",
        "# performing 10 fold stratified cross validation\n",
        "iteration_no = 1\n",
        "minority_class_samples_save = []\n",
        "centers_save = []\n",
        "train_f1 = []\n",
        "test_f1 = []\n",
        "Silhouette_scores = []\n",
        "for train_index, test_index in skf.split(X, y):\n",
        "  print('**********Iteration Number {}**********'.format(iteration_no))\n",
        "  x_train_fold, x_test_fold = X.iloc[train_index], X.iloc[test_index]\n",
        "  y_train_fold, y_test_fold = y.iloc[train_index], y.iloc[test_index]\n",
        "  df_train = x_train_fold.copy()\n",
        "  test_data = x_test_fold.copy()\n",
        "  test_data['HeartDisease'] = y_test_fold \n",
        "  df_train['HeartDisease'] = y_train_fold\n",
        "  df_train['HeartDisease'] = np.where(df_train['HeartDisease'] == 'No', 0, df_train['HeartDisease'])\n",
        "  df_train['HeartDisease'] = np.where(df_train['HeartDisease'] == 'Yes', 1, df_train['HeartDisease'])\n",
        "  test_data['HeartDisease'] = np.where(test_data['HeartDisease'] == 'No', 0, test_data['HeartDisease'])\n",
        "  test_data['HeartDisease'] = np.where(test_data['HeartDisease'] == 'Yes', 1, test_data['HeartDisease'])\n",
        "\n",
        "  df_train_scale = pd.DataFrame(scale_minmax.fit_transform(df_train), columns = df_heart_75.columns) \n",
        "  km_3 = KMeans(n_clusters=2,random_state=1)    # k=2 clusters using elbow and silhouette method\n",
        "  km_3.fit(df_train_scale)\n",
        "  centers = km_3.cluster_centers_\n",
        "  centers_save = np.append(centers_save, centers)\n",
        "  Cluster_3 = km_3.labels_\n",
        "  sil_score = silhouette_score(df_train_scale,Cluster_3)\n",
        "  print('Silhouette score:', round(sil_score,5))\n",
        "  Silhouette_scores.append(sil_score)\n",
        "  df_heart_cluster = df_train_scale.copy()\n",
        "  df_heart_cluster['Cluster'] = Cluster_3\n",
        "\n",
        "  # for cluster label 1\n",
        "  df_cluster0 = df_heart_cluster[df_heart_cluster['Cluster'] == 1]\n",
        "  minority_class_samples = df_cluster0.HeartDisease.value_counts().min()\n",
        "  minority_class_samples_save = np.append(minority_class_samples_save, minority_class_samples)\n",
        "  print('Minority class samples:',minority_class_samples)\n",
        "\n",
        "  if minority_class_samples != 0:\n",
        "    features = df_cluster0.drop(columns=['HeartDisease'], axis=1)\n",
        "    labels = df_cluster0['HeartDisease']\n",
        "    rf_model = RandomForestClassifier(n_estimators=100, max_features=4, max_depth=4, min_samples_leaf=5, min_samples_split=2, random_state=1)\n",
        "    rf_model.fit(features, labels)\n",
        "    #print('Train Data')\n",
        "    train_f1_cv = metrics.f1_score(labels, rf_model.predict(features), pos_label=0)\n",
        "    print('Train F1 {:.5f}'.format(train_f1_cv))\n",
        "    train_f1 = np.append(train_f1, train_f1_cv)\n",
        "    #print(metrics.classification_report(labels, rf_model.predict(features)))\n",
        "  else:\n",
        "    print('There are no samples of both classes, Hence classifier is not trained')\n",
        "\n",
        "  test_data_scale = pd.DataFrame(scale_minmax.transform(test_data), columns = df_heart_75.columns)\n",
        "  cluster_test_labels = km_3.fit_predict(test_data_scale)\n",
        "  test_data_scale['Cluster'] = cluster_test_labels\n",
        "\n",
        "  if minority_class_samples != 0:\n",
        "    X_test = test_data_scale.drop(columns=['HeartDisease'], axis=1)\n",
        "    y_test = test_data_scale['HeartDisease']\n",
        "    #print('\\nTest data')\n",
        "    test_f1_cv = metrics.f1_score(y_test, rf_model.predict(X_test), pos_label=0)\n",
        "    print('Test F1 {:.5f}'.format(test_f1_cv))\n",
        "    test_f1 = np.append(test_f1, test_f1_cv)\n",
        "    #print(metrics.classification_report(y_test, rf_model.predict(X_test)))\n",
        "  else:\n",
        "    print('There are no samples of both classes')\n",
        "  iteration_no += 1\n",
        "print('\\nMinority class samples during each iterations', minority_class_samples_save)\n",
        "print('Silhouette scores', round(np.mean(Silhouette_scores),5),'+/-', round(np.std(Silhouette_scores),5))\n",
        "print('Overall train F1 score', round(train_f1.mean(),5),'+/-', round(train_f1.std(),5))\n",
        "print('Overall test F1 score', round(test_f1.mean(),5),'+/-', round(test_f1.std(),5))\n",
        "train_f1_cluster1_med = train_f1\n",
        "test_f1_cluster1_med = test_f1"
      ],
      "metadata": {
        "colab": {
          "base_uri": "https://localhost:8080/"
        },
        "id": "UZdGULj_OTNh",
        "outputId": "193d500d-1c98-4086-d359-d62335f8ecdf"
      },
      "execution_count": null,
      "outputs": [
        {
          "output_type": "stream",
          "name": "stdout",
          "text": [
            "**********Iteration Number 1**********\n",
            "Silhouette score: 0.26825\n",
            "Minority class samples: 16\n",
            "Train F1 0.00000\n",
            "Test F1 0.00000\n",
            "**********Iteration Number 2**********\n",
            "Silhouette score: 0.27533\n",
            "Minority class samples: 17\n",
            "Train F1 0.00000\n",
            "Test F1 0.00000\n",
            "**********Iteration Number 3**********\n",
            "Silhouette score: 0.27413\n",
            "Minority class samples: 16\n",
            "Train F1 0.00000\n",
            "Test F1 0.00000\n",
            "**********Iteration Number 4**********\n",
            "Silhouette score: 0.27332\n",
            "Minority class samples: 18\n",
            "Train F1 0.00000\n",
            "Test F1 0.00000\n",
            "**********Iteration Number 5**********\n",
            "Silhouette score: 0.26359\n",
            "Minority class samples: 20\n",
            "Train F1 0.00000\n",
            "Test F1 0.00000\n",
            "**********Iteration Number 6**********\n",
            "Silhouette score: 0.27187\n",
            "Minority class samples: 18\n",
            "Train F1 0.00000\n",
            "Test F1 0.00000\n",
            "**********Iteration Number 7**********\n",
            "Silhouette score: 0.27379\n",
            "Minority class samples: 19\n",
            "Train F1 0.00000\n",
            "Test F1 0.00000\n",
            "**********Iteration Number 8**********\n",
            "Silhouette score: 0.2705\n",
            "Minority class samples: 19\n",
            "Train F1 0.00000\n",
            "Test F1 0.00000\n",
            "**********Iteration Number 9**********\n",
            "Silhouette score: 0.27064\n",
            "Minority class samples: 19\n",
            "Train F1 0.00000\n",
            "Test F1 0.00000\n",
            "**********Iteration Number 10**********\n",
            "Silhouette score: 0.27282\n",
            "Minority class samples: 18\n",
            "Train F1 0.00000\n",
            "Test F1 0.00000\n",
            "\n",
            "Minority class samples during each iterations [16. 17. 16. 18. 20. 18. 19. 19. 19. 18.]\n",
            "Silhouette scores 0.27142 +/- 0.00327\n",
            "Overall train F1 score 0.0 +/- 0.0\n",
            "Overall test F1 score 0.0 +/- 0.0\n"
          ]
        }
      ]
    },
    {
      "cell_type": "markdown",
      "source": [
        "**K-means clustering for high imbalance data**"
      ],
      "metadata": {
        "id": "PD-shdTdTBJO"
      }
    },
    {
      "cell_type": "code",
      "source": [
        "# configuring min max sacling\n",
        "scale_minmax = MinMaxScaler()\n",
        "\n",
        "# Encoding target variable\n",
        "df_heart_90['HeartDisease'] = np.where(df_heart_90['HeartDisease'] == 'No', 0, df_heart_90['HeartDisease'])\n",
        "df_heart_90['HeartDisease'] = np.where(df_heart_90['HeartDisease'] == 'Yes', 1, df_heart_90['HeartDisease'])"
      ],
      "metadata": {
        "id": "ZTFe0dozOTLA"
      },
      "execution_count": null,
      "outputs": []
    },
    {
      "cell_type": "code",
      "source": [
        "# checking optimal value of k using elbow method\n",
        "df_heart_scale = pd.DataFrame(scale_minmax.fit_transform(df_heart_90), columns=df_heart_90.columns)\n",
        "\n",
        "# running k-means to find optimum k value\n",
        "\n",
        "WSS = [] # creating empty list for appending Within sum of squares\n",
        "K = range(1,8)\n",
        "for k in K:\n",
        "    k_means = KMeans(n_clusters=k,random_state=1)\n",
        "    K_means_model = k_means.fit(df_heart_scale)\n",
        "    WSS.append(K_means_model.inertia_)\n",
        "plt.plot(K, WSS, marker='o')\n",
        "plt.xlabel('Number of clusters')\n",
        "plt.ylabel('Sum of Squares')\n",
        "plt.title('Elbow Method to find optimal k value')\n",
        "plt.show()"
      ],
      "metadata": {
        "colab": {
          "base_uri": "https://localhost:8080/",
          "height": 295
        },
        "id": "_xNUKzDwOTIW",
        "outputId": "7af9f7ef-4e5a-42ec-fc83-804f5e87526c"
      },
      "execution_count": null,
      "outputs": [
        {
          "output_type": "display_data",
          "data": {
            "text/plain": [
              "<Figure size 432x288 with 1 Axes>"
            ],
            "image/png": "[encoded data removed]"
          },
          "metadata": {
            "needs_background": "light"
          }
        }
      ]
    },
    {
      "cell_type": "code",
      "source": [
        "# checking optimal value of k using silhoutte method\n",
        "K = range(2,8)\n",
        "No_of_clusters = []\n",
        "Silhouette_scores = []\n",
        "\n",
        "for k in K:\n",
        "  k_means = KMeans(n_clusters=k,random_state=1)\n",
        "  k_means.fit(df_heart_scale)\n",
        "  preds = k_means.labels_\n",
        "  centers = k_means.cluster_centers_\n",
        "  sil_score = silhouette_score(df_heart_scale,preds)\n",
        "  No_of_clusters.append(k)\n",
        "  Silhouette_scores.append(sil_score)\n",
        "  print(k)\n",
        "\n",
        "plt.xlabel('k')\n",
        "plt.ylabel('Silhouette coefficient')\n",
        "plt.title('Silhouette Method to find optimal k value')\n",
        "plt.bar(No_of_clusters,Silhouette_scores)\n",
        "plt.show()"
      ],
      "metadata": {
        "colab": {
          "base_uri": "https://localhost:8080/",
          "height": 399
        },
        "id": "hVEerUkvOTFu",
        "outputId": "e5b9e66f-c246-4f01-92d6-163864e5b975"
      },
      "execution_count": null,
      "outputs": [
        {
          "output_type": "stream",
          "name": "stdout",
          "text": [
            "2\n",
            "3\n",
            "4\n",
            "5\n",
            "6\n",
            "7\n"
          ]
        },
        {
          "output_type": "display_data",
          "data": {
            "text/plain": [
              "<Figure size 432x288 with 1 Axes>"
            ],
            "image/png": "[encoded data removed]"
          },
          "metadata": {
            "needs_background": "light"
          }
        }
      ]
    },
    {
      "cell_type": "code",
      "source": [
        "df_heart_90['HeartDisease'] = np.where(df_heart_90['HeartDisease'] == 0, 'No', df_heart_90['HeartDisease'])\n",
        "df_heart_90['HeartDisease'] = np.where(df_heart_90['HeartDisease'] == 1, 'Yes', df_heart_90['HeartDisease'])"
      ],
      "metadata": {
        "id": "u1QmvJ8pTemj"
      },
      "execution_count": null,
      "outputs": []
    },
    {
      "cell_type": "code",
      "source": [
        "# for high imbalance data\n",
        "\n",
        "# seperating target and features\n",
        "X = df_heart_90.drop(columns=['HeartDisease'],axis=1)\n",
        "y = df_heart_90['HeartDisease']\n",
        "\n",
        "# performing 10 fold stratified cross validation\n",
        "iteration_no = 1\n",
        "minority_class_samples_save = []\n",
        "centers_save = []\n",
        "train_f1 = []\n",
        "test_f1 = []\n",
        "Silhouette_scores = []\n",
        "for train_index, test_index in skf.split(X, y):\n",
        "  print('**********Iteration Number {}**********'.format(iteration_no))\n",
        "  x_train_fold, x_test_fold = X.iloc[train_index], X.iloc[test_index]\n",
        "  y_train_fold, y_test_fold = y.iloc[train_index], y.iloc[test_index]\n",
        "  df_train = x_train_fold.copy()\n",
        "  test_data = x_test_fold.copy()\n",
        "  test_data['HeartDisease'] = y_test_fold \n",
        "  df_train['HeartDisease'] = y_train_fold\n",
        "  df_train['HeartDisease'] = np.where(df_train['HeartDisease'] == 'No', 0, df_train['HeartDisease'])\n",
        "  df_train['HeartDisease'] = np.where(df_train['HeartDisease'] == 'Yes', 1, df_train['HeartDisease'])\n",
        "  test_data['HeartDisease'] = np.where(test_data['HeartDisease'] == 'No', 0, test_data['HeartDisease'])\n",
        "  test_data['HeartDisease'] = np.where(test_data['HeartDisease'] == 'Yes', 1, test_data['HeartDisease'])\n",
        "\n",
        "  df_train_scale = pd.DataFrame(scale_minmax.fit_transform(df_train), columns = df_heart_90.columns) \n",
        "  km_3 = KMeans(n_clusters=2,random_state=1)    # k=2 clusters using elbow and silhouette method\n",
        "  km_3.fit(df_train_scale)\n",
        "  centers = km_3.cluster_centers_\n",
        "  centers_save = np.append(centers_save, centers)\n",
        "  Cluster_3 = km_3.labels_\n",
        "  sil_score = silhouette_score(df_train_scale,Cluster_3)\n",
        "  print('Silhouette score:', round(sil_score,5))\n",
        "  Silhouette_scores.append(sil_score)\n",
        "  df_heart_cluster = df_train_scale.copy()\n",
        "  df_heart_cluster['Cluster'] = Cluster_3\n",
        "\n",
        "  # for cluster label 0\n",
        "  df_cluster0 = df_heart_cluster[df_heart_cluster['Cluster'] == 0]\n",
        "  minority_class_samples = df_cluster0.HeartDisease.value_counts().min()\n",
        "  minority_class_samples_save = np.append(minority_class_samples_save, minority_class_samples)\n",
        "  print('Minority class samples:',minority_class_samples)\n",
        "\n",
        "  if minority_class_samples != 0:\n",
        "    features = df_cluster0.drop(columns=['HeartDisease'], axis=1)\n",
        "    labels = df_cluster0['HeartDisease']\n",
        "    rf_model = RandomForestClassifier(n_estimators=100, max_features=4, max_depth=4, min_samples_leaf=5, min_samples_split=2, random_state=1)\n",
        "    rf_model.fit(features, labels)\n",
        "    #print('Train Data')\n",
        "    train_f1_cv = metrics.f1_score(labels, rf_model.predict(features), pos_label=0)\n",
        "    print('Train F1 {:.5f}'.format(train_f1_cv))\n",
        "    train_f1 = np.append(train_f1, train_f1_cv)\n",
        "    #print(metrics.classification_report(labels, rf_model.predict(features)))\n",
        "  else:\n",
        "    print('There are no samples of both classes, Hence classifier is not trained')\n",
        "\n",
        "  test_data_scale = pd.DataFrame(scale_minmax.transform(test_data), columns = df_heart_90.columns)\n",
        "  cluster_test_labels = km_3.fit_predict(test_data_scale)\n",
        "  test_data_scale['Cluster'] = cluster_test_labels\n",
        "\n",
        "  if minority_class_samples != 0:\n",
        "    X_test = test_data_scale.drop(columns=['HeartDisease'], axis=1)\n",
        "    y_test = test_data_scale['HeartDisease']\n",
        "    #print('\\nTest data')\n",
        "    test_f1_cv = metrics.f1_score(y_test, rf_model.predict(X_test), pos_label=0)\n",
        "    print('Test F1 {:.5f}'.format(test_f1_cv))\n",
        "    test_f1 = np.append(test_f1, test_f1_cv)\n",
        "    #print(metrics.classification_report(y_test, rf_model.predict(X_test)))\n",
        "  else:\n",
        "    print('There are no samples of both classes')\n",
        "  iteration_no += 1\n",
        "print('\\nMinority class samples during each iterations', minority_class_samples_save)\n",
        "print('Silhouette scores', round(np.mean(Silhouette_scores),5),'+/-', round(np.std(Silhouette_scores),5))\n",
        "print('Overall train F1 score', round(train_f1.mean(),5),'+/-', round(train_f1.std(),5))\n",
        "print('Overall test F1 score', round(test_f1.mean(),5),'+/-', round(test_f1.std(),5))\n",
        "train_f1_cluster0_hig = train_f1\n",
        "test_f1_cluster0_hig = test_f1"
      ],
      "metadata": {
        "colab": {
          "base_uri": "https://localhost:8080/"
        },
        "id": "Lt3GuQKmTej-",
        "outputId": "93d1709c-2a15-487b-abee-8500c49abe10"
      },
      "execution_count": null,
      "outputs": [
        {
          "output_type": "stream",
          "name": "stdout",
          "text": [
            "**********Iteration Number 1**********\n",
            "Silhouette score: 0.25221\n",
            "Minority class samples: 33\n",
            "Train F1 0.79365\n",
            "Test F1 0.72727\n",
            "**********Iteration Number 2**********\n",
            "Silhouette score: 0.25565\n",
            "Minority class samples: 35\n",
            "Train F1 0.75410\n",
            "Test F1 0.60000\n",
            "**********Iteration Number 3**********\n",
            "Silhouette score: 0.25558\n",
            "Minority class samples: 36\n",
            "Train F1 0.77612\n",
            "Test F1 0.66667\n",
            "**********Iteration Number 4**********\n",
            "Silhouette score: 0.25108\n",
            "Minority class samples: 34\n",
            "Train F1 0.80000\n",
            "Test F1 0.40000\n",
            "**********Iteration Number 5**********\n",
            "Silhouette score: 0.24898\n",
            "Minority class samples: 35\n",
            "Train F1 0.83077\n",
            "Test F1 0.40000\n",
            "**********Iteration Number 6**********\n",
            "Silhouette score: 0.25901\n",
            "Minority class samples: 36\n",
            "Train F1 0.76190\n",
            "Test F1 0.46154\n",
            "**********Iteration Number 7**********\n",
            "Silhouette score: 0.25381\n",
            "Minority class samples: 34\n",
            "Train F1 0.83871\n",
            "Test F1 0.66667\n",
            "**********Iteration Number 8**********\n",
            "Silhouette score: 0.26068\n",
            "Minority class samples: 36\n",
            "Train F1 0.80597\n",
            "Test F1 0.60000\n",
            "**********Iteration Number 9**********\n",
            "Silhouette score: 0.25841\n",
            "Minority class samples: 37\n",
            "Train F1 0.77612\n",
            "Test F1 0.20000\n",
            "**********Iteration Number 10**********\n",
            "Silhouette score: 0.25864\n",
            "Minority class samples: 35\n",
            "Train F1 0.75000\n",
            "Test F1 0.28571\n",
            "\n",
            "Minority class samples during each iterations [33. 35. 36. 34. 35. 36. 34. 36. 37. 35.]\n",
            "Silhouette scores 0.2554 +/- 0.00365\n",
            "Overall train F1 score 0.78873 +/- 0.02907\n",
            "Overall test F1 score 0.50079 +/- 0.1687\n"
          ]
        }
      ]
    },
    {
      "cell_type": "code",
      "source": [
        "# for high imbalance data\n",
        "\n",
        "# seperating target and features\n",
        "X = df_heart_90.drop(columns=['HeartDisease'],axis=1)\n",
        "y = df_heart_90['HeartDisease']\n",
        "\n",
        "# performing 10 fold stratified cross validation\n",
        "iteration_no = 1\n",
        "minority_class_samples_save = []\n",
        "centers_save = []\n",
        "train_f1 = []\n",
        "test_f1 = []\n",
        "Silhouette_scores = []\n",
        "for train_index, test_index in skf.split(X, y):\n",
        "  print('**********Iteration Number {}**********'.format(iteration_no))\n",
        "  x_train_fold, x_test_fold = X.iloc[train_index], X.iloc[test_index]\n",
        "  y_train_fold, y_test_fold = y.iloc[train_index], y.iloc[test_index]\n",
        "  df_train = x_train_fold.copy()\n",
        "  test_data = x_test_fold.copy()\n",
        "  test_data['HeartDisease'] = y_test_fold \n",
        "  df_train['HeartDisease'] = y_train_fold\n",
        "  df_train['HeartDisease'] = np.where(df_train['HeartDisease'] == 'No', 0, df_train['HeartDisease'])\n",
        "  df_train['HeartDisease'] = np.where(df_train['HeartDisease'] == 'Yes', 1, df_train['HeartDisease'])\n",
        "  test_data['HeartDisease'] = np.where(test_data['HeartDisease'] == 'No', 0, test_data['HeartDisease'])\n",
        "  test_data['HeartDisease'] = np.where(test_data['HeartDisease'] == 'Yes', 1, test_data['HeartDisease'])\n",
        "\n",
        "  df_train_scale = pd.DataFrame(scale_minmax.fit_transform(df_train), columns = df_heart_90.columns) \n",
        "  km_3 = KMeans(n_clusters=2,random_state=1)    # k=2 clusters using elbow and silhouette method\n",
        "  km_3.fit(df_train_scale)\n",
        "  centers = km_3.cluster_centers_\n",
        "  centers_save = np.append(centers_save, centers)\n",
        "  Cluster_3 = km_3.labels_\n",
        "  sil_score = silhouette_score(df_train_scale,Cluster_3)\n",
        "  print('Silhouette score:', round(sil_score,5))\n",
        "  Silhouette_scores.append(sil_score)\n",
        "  df_heart_cluster = df_train_scale.copy()\n",
        "  df_heart_cluster['Cluster'] = Cluster_3\n",
        "\n",
        "  # for cluster label 1\n",
        "  df_cluster0 = df_heart_cluster[df_heart_cluster['Cluster'] == 0]\n",
        "  minority_class_samples = df_cluster0.HeartDisease.value_counts().min()\n",
        "  minority_class_samples_save = np.append(minority_class_samples_save, minority_class_samples)\n",
        "  print('Minority class samples:',minority_class_samples)\n",
        "\n",
        "  if minority_class_samples != 0:\n",
        "    features = df_cluster0.drop(columns=['HeartDisease'], axis=1)\n",
        "    labels = df_cluster0['HeartDisease']\n",
        "    rf_model = RandomForestClassifier(n_estimators=100, max_features=4, max_depth=4, min_samples_leaf=5, min_samples_split=2, random_state=1)\n",
        "    rf_model.fit(features, labels)\n",
        "    #print('Train Data')\n",
        "    train_f1_cv = metrics.f1_score(labels, rf_model.predict(features), pos_label=1)\n",
        "    print('Train F1 {:.5f}'.format(train_f1_cv))\n",
        "    train_f1 = np.append(train_f1, train_f1_cv)\n",
        "    #print(metrics.classification_report(labels, rf_model.predict(features)))\n",
        "  else:\n",
        "    print('There are no samples of both classes, Hence classifier is not trained')\n",
        "\n",
        "  test_data_scale = pd.DataFrame(scale_minmax.transform(test_data), columns = df_heart_90.columns)\n",
        "  cluster_test_labels = km_3.fit_predict(test_data_scale)\n",
        "  test_data_scale['Cluster'] = cluster_test_labels\n",
        "\n",
        "  if minority_class_samples != 0:\n",
        "    X_test = test_data_scale.drop(columns=['HeartDisease'], axis=1)\n",
        "    y_test = test_data_scale['HeartDisease']\n",
        "    #print('\\nTest data')\n",
        "    test_f1_cv = metrics.f1_score(y_test, rf_model.predict(X_test), pos_label=0)\n",
        "    print('Test F1 {:.5f}'.format(test_f1_cv))\n",
        "    test_f1 = np.append(test_f1, test_f1_cv)\n",
        "    #print(metrics.classification_report(y_test, rf_model.predict(X_test)))\n",
        "  else:\n",
        "    print('There are no samples of both classes')\n",
        "  iteration_no += 1\n",
        "print('\\nMinority class samples during each iterations', minority_class_samples_save)\n",
        "print('Silhouette scores', round(np.mean(Silhouette_scores),5),'+/-', round(np.std(Silhouette_scores),5))\n",
        "print('Overall train F1 score', round(train_f1.mean(),5),'+/-', round(train_f1.std(),5))\n",
        "print('Overall test F1 score', round(test_f1.mean(),5),'+/-', round(test_f1.std(),5))\n",
        "train_f1_cluster1_hig = train_f1\n",
        "test_f1_cluster1_hig = test_f1"
      ],
      "metadata": {
        "colab": {
          "base_uri": "https://localhost:8080/"
        },
        "id": "eEptehOYTehF",
        "outputId": "2b809c62-7808-4a55-edc6-cbb3a4363016"
      },
      "execution_count": null,
      "outputs": [
        {
          "output_type": "stream",
          "name": "stdout",
          "text": [
            "**********Iteration Number 1**********\n",
            "Silhouette score: 0.25221\n",
            "Minority class samples: 33\n",
            "Train F1 0.91034\n",
            "Test F1 0.72727\n",
            "**********Iteration Number 2**********\n",
            "Silhouette score: 0.25565\n",
            "Minority class samples: 35\n",
            "Train F1 0.89933\n",
            "Test F1 0.60000\n",
            "**********Iteration Number 3**********\n",
            "Silhouette score: 0.25558\n",
            "Minority class samples: 36\n",
            "Train F1 0.89051\n",
            "Test F1 0.66667\n",
            "**********Iteration Number 4**********\n",
            "Silhouette score: 0.25108\n",
            "Minority class samples: 34\n",
            "Train F1 0.92405\n",
            "Test F1 0.40000\n",
            "**********Iteration Number 5**********\n",
            "Silhouette score: 0.24898\n",
            "Minority class samples: 35\n",
            "Train F1 0.92715\n",
            "Test F1 0.40000\n",
            "**********Iteration Number 6**********\n",
            "Silhouette score: 0.25901\n",
            "Minority class samples: 36\n",
            "Train F1 0.90323\n",
            "Test F1 0.46154\n",
            "**********Iteration Number 7**********\n",
            "Silhouette score: 0.25381\n",
            "Minority class samples: 34\n",
            "Train F1 0.93506\n",
            "Test F1 0.66667\n",
            "**********Iteration Number 8**********\n",
            "Silhouette score: 0.26068\n",
            "Minority class samples: 36\n",
            "Train F1 0.91275\n",
            "Test F1 0.60000\n",
            "**********Iteration Number 9**********\n",
            "Silhouette score: 0.25841\n",
            "Minority class samples: 37\n",
            "Train F1 0.90323\n",
            "Test F1 0.20000\n",
            "**********Iteration Number 10**********\n",
            "Silhouette score: 0.25864\n",
            "Minority class samples: 35\n",
            "Train F1 0.89333\n",
            "Test F1 0.28571\n",
            "\n",
            "Minority class samples during each iterations [33. 35. 36. 34. 35. 36. 34. 36. 37. 35.]\n",
            "Silhouette scores 0.2554 +/- 0.00365\n",
            "Overall train F1 score 0.9099 +/- 0.01411\n",
            "Overall test F1 score 0.50079 +/- 0.1687\n"
          ]
        }
      ]
    },
    {
      "cell_type": "markdown",
      "source": [
        "**Comparison using permutation test**"
      ],
      "metadata": {
        "id": "MC7Jn2sRoTFO"
      }
    },
    {
      "cell_type": "code",
      "source": [
        "from numpy.random.mtrand import permutation\n",
        "def get_pvalue(iterations,Results1,Results2,diff):\n",
        "  concat = np.concatenate((Results1,Results2))\n",
        "  count = 0\n",
        "  for i in range(0,iterations):\n",
        "    permutation = np.random.permutation(concat)\n",
        "    p_current = permutation[:len(Results1)]\n",
        "    p_new = permutation[len(Results1):]\n",
        "    mean_permutation_current = p_current.mean()\n",
        "    mean_permutation_new = p_new.mean()\n",
        "    t_permutation = mean_permutation_new - mean_permutation_current\n",
        "\n",
        "    if(t_permutation > diff):\n",
        "      count += 1\n",
        "  p_value = count / iterations\n",
        "  if p_value > 0.05:\n",
        "    print('Since p value {} is greater than 0.05 we failed to reject null hypothesis'.format(round(p_value,4)))\n",
        "    #print('Results 1 are not better than Results 2')\n",
        "  else:\n",
        "    print('Since p value {} is less than 0.05 we will reject null hypothesis'.format(round(p_value,4)))\n",
        "    #print('Results 1 are better than Results 2')\n",
        "  return #p_value"
      ],
      "metadata": {
        "id": "1TwoRWxzTeee"
      },
      "execution_count": null,
      "outputs": []
    },
    {
      "cell_type": "code",
      "source": [
        "# comaprison of baseline model for different imbalances\n",
        "comparison = pd.concat([pd.Series(test_f1_BL_original), pd.Series(test_f1_BL_low), pd.Series(test_f1_BL_med), pd.Series(test_f1_BL_hig)], axis=1)\n",
        "comparison.columns = ['Original Data', 'Low Imbalance', 'Medium Imbalance', 'high Imbalance']\n",
        "comparison.boxplot()\n",
        "plt.ylabel('F1-score')\n",
        "plt.xticks(rotation=45)\n",
        "plt.show()"
      ],
      "metadata": {
        "id": "CtkyMm4dui3X",
        "colab": {
          "base_uri": "https://localhost:8080/",
          "height": 330
        },
        "outputId": "d579f2bc-a3b0-43ee-d403-57a92635bab7"
      },
      "execution_count": null,
      "outputs": [
        {
          "output_type": "display_data",
          "data": {
            "text/plain": [
              "<Figure size 432x288 with 1 Axes>"
            ],
            "image/png": "[encoded data removed]"
          },
          "metadata": {
            "needs_background": "light"
          }
        }
      ]
    },
    {
      "cell_type": "code",
      "source": [
        "# comaprison of custom model for different imbalances\n",
        "comparison1 = pd.concat([pd.Series(test_f1_cluster0_org), pd.Series(test_f1_cluster1_org), pd.Series(test_f1_cluster0_low), pd.Series(test_f1_cluster1_low), pd.Series(test_f1_cluster0_med), pd.Series(test_f1_cluster1_med), pd.Series(test_f1_cluster0_hig), pd.Series(test_f1_cluster1_hig)], axis=1)\n",
        "comparison1.columns = ['Org. Cluster 0 ', 'Org. Cluster 1', 'Low. Cluster 0 ', 'Low. Cluster 1', 'Med. Cluster 0 ', 'Med. Cluster 1', 'Hig. Cluster 0 ', 'Hig. Cluster 1']\n",
        "comparison1.boxplot()\n",
        "plt.ylabel('F1-score')\n",
        "plt.xticks(rotation=90)\n",
        "plt.show()"
      ],
      "metadata": {
        "colab": {
          "base_uri": "https://localhost:8080/",
          "height": 331
        },
        "id": "H9aU4PRFGznp",
        "outputId": "b5772958-213a-4fe2-ab14-2f47fddbb692"
      },
      "execution_count": null,
      "outputs": [
        {
          "output_type": "display_data",
          "data": {
            "text/plain": [
              "<Figure size 432x288 with 1 Axes>"
            ],
            "image/png": "[encoded data removed]"
          },
          "metadata": {
            "needs_background": "light"
          }
        }
      ]
    },
    {
      "cell_type": "code",
      "source": [
        "comparison"
      ],
      "metadata": {
        "colab": {
          "base_uri": "https://localhost:8080/",
          "height": 363
        },
        "id": "aYk8LNkaG4Qv",
        "outputId": "5e75870b-4774-4b4b-c04b-80fbba5652a7"
      },
      "execution_count": null,
      "outputs": [
        {
          "output_type": "execute_result",
          "data": {
            "text/plain": [
              "   Original Data  Low Imbalance  Medium Imbalance  high Imbalance\n",
              "0       0.820513       0.871795          0.695652        0.666667\n",
              "1       0.702703       0.882353          0.769231        0.571429\n",
              "2       0.871795       0.787879          0.761905        0.500000\n",
              "3       0.800000       0.764706          0.642857        0.571429\n",
              "4       0.724638       0.787879          0.923077        0.444444\n",
              "5       0.909091       0.810811          0.869565        0.571429\n",
              "6       0.883721       0.914286          0.827586        0.750000\n",
              "7       0.864198       0.888889          0.846154        0.285714\n",
              "8       0.794872       0.733333          0.782609        0.000000\n",
              "9       0.911392       0.787879          0.700000        0.000000"
            ],
            "text/html": [
              "\n",
              "  <div id=\"df-58053eab-58d1-4d6f-a192-92354cd8eb3a\">\n",
              "    <div class=\"colab-df-container\">\n",
              "      <div>\n",
              "<style scoped>\n",
              "    .dataframe tbody tr th:only-of-type {\n",
              "        vertical-align: middle;\n",
              "    }\n",
              "\n",
              "    .dataframe tbody tr th {\n",
              "        vertical-align: top;\n",
              "    }\n",
              "\n",
              "    .dataframe thead th {\n",
              "        text-align: right;\n",
              "    }\n",
              "</style>\n",
              "<table border=\"1\" class=\"dataframe\">\n",
              "  <thead>\n",
              "    <tr style=\"text-align: right;\">\n",
              "      <th></th>\n",
              "      <th>Original Data</th>\n",
              "      <th>Low Imbalance</th>\n",
              "      <th>Medium Imbalance</th>\n",
              "      <th>high Imbalance</th>\n",
              "    </tr>\n",
              "  </thead>\n",
              "  <tbody>\n",
              "    <tr>\n",
              "      <th>0</th>\n",
              "      <td>0.820513</td>\n",
              "      <td>0.871795</td>\n",
              "      <td>0.695652</td>\n",
              "      <td>0.666667</td>\n",
              "    </tr>\n",
              "    <tr>\n",
              "      <th>1</th>\n",
              "      <td>0.702703</td>\n",
              "      <td>0.882353</td>\n",
              "      <td>0.769231</td>\n",
              "      <td>0.571429</td>\n",
              "    </tr>\n",
              "    <tr>\n",
              "      <th>2</th>\n",
              "      <td>0.871795</td>\n",
              "      <td>0.787879</td>\n",
              "      <td>0.761905</td>\n",
              "      <td>0.500000</td>\n",
              "    </tr>\n",
              "    <tr>\n",
              "      <th>3</th>\n",
              "      <td>0.800000</td>\n",
              "      <td>0.764706</td>\n",
              "      <td>0.642857</td>\n",
              "      <td>0.571429</td>\n",
              "    </tr>\n",
              "    <tr>\n",
              "      <th>4</th>\n",
              "      <td>0.724638</td>\n",
              "      <td>0.787879</td>\n",
              "      <td>0.923077</td>\n",
              "      <td>0.444444</td>\n",
              "    </tr>\n",
              "    <tr>\n",
              "      <th>5</th>\n",
              "      <td>0.909091</td>\n",
              "      <td>0.810811</td>\n",
              "      <td>0.869565</td>\n",
              "      <td>0.571429</td>\n",
              "    </tr>\n",
              "    <tr>\n",
              "      <th>6</th>\n",
              "      <td>0.883721</td>\n",
              "      <td>0.914286</td>\n",
              "      <td>0.827586</td>\n",
              "      <td>0.750000</td>\n",
              "    </tr>\n",
              "    <tr>\n",
              "      <th>7</th>\n",
              "      <td>0.864198</td>\n",
              "      <td>0.888889</td>\n",
              "      <td>0.846154</td>\n",
              "      <td>0.285714</td>\n",
              "    </tr>\n",
              "    <tr>\n",
              "      <th>8</th>\n",
              "      <td>0.794872</td>\n",
              "      <td>0.733333</td>\n",
              "      <td>0.782609</td>\n",
              "      <td>0.000000</td>\n",
              "    </tr>\n",
              "    <tr>\n",
              "      <th>9</th>\n",
              "      <td>0.911392</td>\n",
              "      <td>0.787879</td>\n",
              "      <td>0.700000</td>\n",
              "      <td>0.000000</td>\n",
              "    </tr>\n",
              "  </tbody>\n",
              "</table>\n",
              "</div>\n",
              "      <button class=\"colab-df-convert\" onclick=\"convertToInteractive('df-58053eab-58d1-4d6f-a192-92354cd8eb3a')\"\n",
              "              title=\"Convert this dataframe to an interactive table.\"\n",
              "              style=\"display:none;\">\n",
              "        \n",
              "  <svg xmlns=\"http://www.w3.org/2000/svg\" height=\"24px\"viewBox=\"0 0 24 24\"\n",
              "       width=\"24px\">\n",
              "    <path d=\"M0 0h24v24H0V0z\" fill=\"none\"/>\n",
              "    <path d=\"M18.56 5.44l.94 2.06.94-2.06 2.06-.94-2.06-.94-.94-2.06-.94 2.06-2.06.94zm-11 1L8.5 8.5l.94-2.06 2.06-.94-2.06-.94L8.5 2.5l-.94 2.06-2.06.94zm10 10l.94 2.06.94-2.06 2.06-.94-2.06-.94-.94-2.06-.94 2.06-2.06.94z\"/><path d=\"M17.41 7.96l-1.37-1.37c-.4-.4-.92-.59-1.43-.59-.52 0-1.04.2-1.43.59L10.3 9.45l-7.72 7.72c-.78.78-.78 2.05 0 2.83L4 21.41c.39.39.9.59 1.41.59.51 0 1.02-.2 1.41-.59l7.78-7.78 2.81-2.81c.8-.78.8-2.07 0-2.86zM5.41 20L4 18.59l7.72-7.72 1.47 1.35L5.41 20z\"/>\n",
              "  </svg>\n",
              "      </button>\n",
              "      \n",
              "  <style>\n",
              "    .colab-df-container {\n",
              "      display:flex;\n",
              "      flex-wrap:wrap;\n",
              "      gap: 12px;\n",
              "    }\n",
              "\n",
              "    .colab-df-convert {\n",
              "      background-color: #E8F0FE;\n",
              "      border: none;\n",
              "      border-radius: 50%;\n",
              "      cursor: pointer;\n",
              "      display: none;\n",
              "      fill: #1967D2;\n",
              "      height: 32px;\n",
              "      padding: 0 0 0 0;\n",
              "      width: 32px;\n",
              "    }\n",
              "\n",
              "    .colab-df-convert:hover {\n",
              "      background-color: #E2EBFA;\n",
              "      box-shadow: 0px 1px 2px rgba(60, 64, 67, 0.3), 0px 1px 3px 1px rgba(60, 64, 67, 0.15);\n",
              "      fill: #174EA6;\n",
              "    }\n",
              "\n",
              "    [theme=dark] .colab-df-convert {\n",
              "      background-color: #3B4455;\n",
              "      fill: #D2E3FC;\n",
              "    }\n",
              "\n",
              "    [theme=dark] .colab-df-convert:hover {\n",
              "      background-color: #434B5C;\n",
              "      box-shadow: 0px 1px 3px 1px rgba(0, 0, 0, 0.15);\n",
              "      filter: drop-shadow(0px 1px 2px rgba(0, 0, 0, 0.3));\n",
              "      fill: #FFFFFF;\n",
              "    }\n",
              "  </style>\n",
              "\n",
              "      <script>\n",
              "        const buttonEl =\n",
              "          document.querySelector('#df-58053eab-58d1-4d6f-a192-92354cd8eb3a button.colab-df-convert');\n",
              "        buttonEl.style.display =\n",
              "          google.colab.kernel.accessAllowed ? 'block' : 'none';\n",
              "\n",
              "        async function convertToInteractive(key) {\n",
              "          const element = document.querySelector('#df-58053eab-58d1-4d6f-a192-92354cd8eb3a');\n",
              "          const dataTable =\n",
              "            await google.colab.kernel.invokeFunction('convertToInteractive',\n",
              "                                                     [key], {});\n",
              "          if (!dataTable) return;\n",
              "\n",
              "          const docLinkHtml = 'Like what you see? Visit the ' +\n",
              "            '<a target=\"_blank\" href=https://colab.research.google.com/notebooks/data_table.ipynb>data table notebook</a>'\n",
              "            + ' to learn more about interactive tables.';\n",
              "          element.innerHTML = '';\n",
              "          dataTable['output_type'] = 'display_data';\n",
              "          await google.colab.output.renderOutput(dataTable, element);\n",
              "          const docLink = document.createElement('div');\n",
              "          docLink.innerHTML = docLinkHtml;\n",
              "          element.appendChild(docLink);\n",
              "        }\n",
              "      </script>\n",
              "    </div>\n",
              "  </div>\n",
              "  "
            ]
          },
          "metadata": {},
          "execution_count": 64
        }
      ]
    },
    {
      "cell_type": "code",
      "source": [
        "comparison1"
      ],
      "metadata": {
        "colab": {
          "base_uri": "https://localhost:8080/",
          "height": 363
        },
        "id": "S_YA6hBJG43Y",
        "outputId": "efcc0ac8-abfd-4dc0-8ee5-5159171f8c9c"
      },
      "execution_count": null,
      "outputs": [
        {
          "output_type": "execute_result",
          "data": {
            "text/plain": [
              "   Org. Cluster 0   Org. Cluster 1  Low. Cluster 0   Low. Cluster 1  \\\n",
              "0         0.190476        0.190476         0.654545        0.100000   \n",
              "1         0.000000        0.000000         0.631579        0.000000   \n",
              "2         0.090909        0.090909         0.000000        0.739130   \n",
              "3         0.000000        0.000000         0.681818        0.000000   \n",
              "4         0.000000        0.000000         0.631579        0.000000   \n",
              "5         0.173913        0.173913         0.000000        0.723404   \n",
              "6         0.083333        0.083333         0.818182        0.000000   \n",
              "7         0.000000        0.000000         0.723404        0.000000   \n",
              "8         0.000000        0.000000         0.714286        0.000000   \n",
              "9         0.000000        0.000000         0.000000        0.723404   \n",
              "\n",
              "   Med. Cluster 0   Med. Cluster 1  Hig. Cluster 0   Hig. Cluster 1  \n",
              "0         0.645161             0.0         0.727273        0.727273  \n",
              "1         0.687500             0.0         0.600000        0.600000  \n",
              "2         0.774194             0.0         0.666667        0.666667  \n",
              "3         0.514286             0.0         0.400000        0.400000  \n",
              "4         0.727273             0.0         0.400000        0.400000  \n",
              "5         0.742857             0.0         0.461538        0.461538  \n",
              "6         0.650000             0.0         0.666667        0.666667  \n",
              "7         0.687500             0.0         0.600000        0.600000  \n",
              "8         0.666667             0.0         0.200000        0.200000  \n",
              "9         0.740741             0.0         0.285714        0.285714  "
            ],
            "text/html": [
              "\n",
              "  <div id=\"df-7fcefe52-6758-46bf-b1ca-7f98040e2d77\">\n",
              "    <div class=\"colab-df-container\">\n",
              "      <div>\n",
              "<style scoped>\n",
              "    .dataframe tbody tr th:only-of-type {\n",
              "        vertical-align: middle;\n",
              "    }\n",
              "\n",
              "    .dataframe tbody tr th {\n",
              "        vertical-align: top;\n",
              "    }\n",
              "\n",
              "    .dataframe thead th {\n",
              "        text-align: right;\n",
              "    }\n",
              "</style>\n",
              "<table border=\"1\" class=\"dataframe\">\n",
              "  <thead>\n",
              "    <tr style=\"text-align: right;\">\n",
              "      <th></th>\n",
              "      <th>Org. Cluster 0</th>\n",
              "      <th>Org. Cluster 1</th>\n",
              "      <th>Low. Cluster 0</th>\n",
              "      <th>Low. Cluster 1</th>\n",
              "      <th>Med. Cluster 0</th>\n",
              "      <th>Med. Cluster 1</th>\n",
              "      <th>Hig. Cluster 0</th>\n",
              "      <th>Hig. Cluster 1</th>\n",
              "    </tr>\n",
              "  </thead>\n",
              "  <tbody>\n",
              "    <tr>\n",
              "      <th>0</th>\n",
              "      <td>0.190476</td>\n",
              "      <td>0.190476</td>\n",
              "      <td>0.654545</td>\n",
              "      <td>0.100000</td>\n",
              "      <td>0.645161</td>\n",
              "      <td>0.0</td>\n",
              "      <td>0.727273</td>\n",
              "      <td>0.727273</td>\n",
              "    </tr>\n",
              "    <tr>\n",
              "      <th>1</th>\n",
              "      <td>0.000000</td>\n",
              "      <td>0.000000</td>\n",
              "      <td>0.631579</td>\n",
              "      <td>0.000000</td>\n",
              "      <td>0.687500</td>\n",
              "      <td>0.0</td>\n",
              "      <td>0.600000</td>\n",
              "      <td>0.600000</td>\n",
              "    </tr>\n",
              "    <tr>\n",
              "      <th>2</th>\n",
              "      <td>0.090909</td>\n",
              "      <td>0.090909</td>\n",
              "      <td>0.000000</td>\n",
              "      <td>0.739130</td>\n",
              "      <td>0.774194</td>\n",
              "      <td>0.0</td>\n",
              "      <td>0.666667</td>\n",
              "      <td>0.666667</td>\n",
              "    </tr>\n",
              "    <tr>\n",
              "      <th>3</th>\n",
              "      <td>0.000000</td>\n",
              "      <td>0.000000</td>\n",
              "      <td>0.681818</td>\n",
              "      <td>0.000000</td>\n",
              "      <td>0.514286</td>\n",
              "      <td>0.0</td>\n",
              "      <td>0.400000</td>\n",
              "      <td>0.400000</td>\n",
              "    </tr>\n",
              "    <tr>\n",
              "      <th>4</th>\n",
              "      <td>0.000000</td>\n",
              "      <td>0.000000</td>\n",
              "      <td>0.631579</td>\n",
              "      <td>0.000000</td>\n",
              "      <td>0.727273</td>\n",
              "      <td>0.0</td>\n",
              "      <td>0.400000</td>\n",
              "      <td>0.400000</td>\n",
              "    </tr>\n",
              "    <tr>\n",
              "      <th>5</th>\n",
              "      <td>0.173913</td>\n",
              "      <td>0.173913</td>\n",
              "      <td>0.000000</td>\n",
              "      <td>0.723404</td>\n",
              "      <td>0.742857</td>\n",
              "      <td>0.0</td>\n",
              "      <td>0.461538</td>\n",
              "      <td>0.461538</td>\n",
              "    </tr>\n",
              "    <tr>\n",
              "      <th>6</th>\n",
              "      <td>0.083333</td>\n",
              "      <td>0.083333</td>\n",
              "      <td>0.818182</td>\n",
              "      <td>0.000000</td>\n",
              "      <td>0.650000</td>\n",
              "      <td>0.0</td>\n",
              "      <td>0.666667</td>\n",
              "      <td>0.666667</td>\n",
              "    </tr>\n",
              "    <tr>\n",
              "      <th>7</th>\n",
              "      <td>0.000000</td>\n",
              "      <td>0.000000</td>\n",
              "      <td>0.723404</td>\n",
              "      <td>0.000000</td>\n",
              "      <td>0.687500</td>\n",
              "      <td>0.0</td>\n",
              "      <td>0.600000</td>\n",
              "      <td>0.600000</td>\n",
              "    </tr>\n",
              "    <tr>\n",
              "      <th>8</th>\n",
              "      <td>0.000000</td>\n",
              "      <td>0.000000</td>\n",
              "      <td>0.714286</td>\n",
              "      <td>0.000000</td>\n",
              "      <td>0.666667</td>\n",
              "      <td>0.0</td>\n",
              "      <td>0.200000</td>\n",
              "      <td>0.200000</td>\n",
              "    </tr>\n",
              "    <tr>\n",
              "      <th>9</th>\n",
              "      <td>0.000000</td>\n",
              "      <td>0.000000</td>\n",
              "      <td>0.000000</td>\n",
              "      <td>0.723404</td>\n",
              "      <td>0.740741</td>\n",
              "      <td>0.0</td>\n",
              "      <td>0.285714</td>\n",
              "      <td>0.285714</td>\n",
              "    </tr>\n",
              "  </tbody>\n",
              "</table>\n",
              "</div>\n",
              "      <button class=\"colab-df-convert\" onclick=\"convertToInteractive('df-7fcefe52-6758-46bf-b1ca-7f98040e2d77')\"\n",
              "              title=\"Convert this dataframe to an interactive table.\"\n",
              "              style=\"display:none;\">\n",
              "        \n",
              "  <svg xmlns=\"http://www.w3.org/2000/svg\" height=\"24px\"viewBox=\"0 0 24 24\"\n",
              "       width=\"24px\">\n",
              "    <path d=\"M0 0h24v24H0V0z\" fill=\"none\"/>\n",
              "    <path d=\"M18.56 5.44l.94 2.06.94-2.06 2.06-.94-2.06-.94-.94-2.06-.94 2.06-2.06.94zm-11 1L8.5 8.5l.94-2.06 2.06-.94-2.06-.94L8.5 2.5l-.94 2.06-2.06.94zm10 10l.94 2.06.94-2.06 2.06-.94-2.06-.94-.94-2.06-.94 2.06-2.06.94z\"/><path d=\"M17.41 7.96l-1.37-1.37c-.4-.4-.92-.59-1.43-.59-.52 0-1.04.2-1.43.59L10.3 9.45l-7.72 7.72c-.78.78-.78 2.05 0 2.83L4 21.41c.39.39.9.59 1.41.59.51 0 1.02-.2 1.41-.59l7.78-7.78 2.81-2.81c.8-.78.8-2.07 0-2.86zM5.41 20L4 18.59l7.72-7.72 1.47 1.35L5.41 20z\"/>\n",
              "  </svg>\n",
              "      </button>\n",
              "      \n",
              "  <style>\n",
              "    .colab-df-container {\n",
              "      display:flex;\n",
              "      flex-wrap:wrap;\n",
              "      gap: 12px;\n",
              "    }\n",
              "\n",
              "    .colab-df-convert {\n",
              "      background-color: #E8F0FE;\n",
              "      border: none;\n",
              "      border-radius: 50%;\n",
              "      cursor: pointer;\n",
              "      display: none;\n",
              "      fill: #1967D2;\n",
              "      height: 32px;\n",
              "      padding: 0 0 0 0;\n",
              "      width: 32px;\n",
              "    }\n",
              "\n",
              "    .colab-df-convert:hover {\n",
              "      background-color: #E2EBFA;\n",
              "      box-shadow: 0px 1px 2px rgba(60, 64, 67, 0.3), 0px 1px 3px 1px rgba(60, 64, 67, 0.15);\n",
              "      fill: #174EA6;\n",
              "    }\n",
              "\n",
              "    [theme=dark] .colab-df-convert {\n",
              "      background-color: #3B4455;\n",
              "      fill: #D2E3FC;\n",
              "    }\n",
              "\n",
              "    [theme=dark] .colab-df-convert:hover {\n",
              "      background-color: #434B5C;\n",
              "      box-shadow: 0px 1px 3px 1px rgba(0, 0, 0, 0.15);\n",
              "      filter: drop-shadow(0px 1px 2px rgba(0, 0, 0, 0.3));\n",
              "      fill: #FFFFFF;\n",
              "    }\n",
              "  </style>\n",
              "\n",
              "      <script>\n",
              "        const buttonEl =\n",
              "          document.querySelector('#df-7fcefe52-6758-46bf-b1ca-7f98040e2d77 button.colab-df-convert');\n",
              "        buttonEl.style.display =\n",
              "          google.colab.kernel.accessAllowed ? 'block' : 'none';\n",
              "\n",
              "        async function convertToInteractive(key) {\n",
              "          const element = document.querySelector('#df-7fcefe52-6758-46bf-b1ca-7f98040e2d77');\n",
              "          const dataTable =\n",
              "            await google.colab.kernel.invokeFunction('convertToInteractive',\n",
              "                                                     [key], {});\n",
              "          if (!dataTable) return;\n",
              "\n",
              "          const docLinkHtml = 'Like what you see? Visit the ' +\n",
              "            '<a target=\"_blank\" href=https://colab.research.google.com/notebooks/data_table.ipynb>data table notebook</a>'\n",
              "            + ' to learn more about interactive tables.';\n",
              "          element.innerHTML = '';\n",
              "          dataTable['output_type'] = 'display_data';\n",
              "          await google.colab.output.renderOutput(dataTable, element);\n",
              "          const docLink = document.createElement('div');\n",
              "          docLink.innerHTML = docLinkHtml;\n",
              "          element.appendChild(docLink);\n",
              "        }\n",
              "      </script>\n",
              "    </div>\n",
              "  </div>\n",
              "  "
            ]
          },
          "metadata": {},
          "execution_count": 65
        }
      ]
    },
    {
      "cell_type": "markdown",
      "source": [
        "**Comparison between base and custom models**"
      ],
      "metadata": {
        "id": "r7gPVavUsUeg"
      }
    },
    {
      "cell_type": "code",
      "source": [
        "# original data comparison base line Vs custo model\n",
        "diff = test_f1_BL_original.mean() - test_f1_cluster0_org.mean()    #for cluster 0\n",
        "get_pvalue(10000, test_f1_BL_original, test_f1_cluster0_org, diff)\n",
        "\n",
        "diff = test_f1_BL_original.mean() - test_f1_cluster1_org.mean()    #for cluster 1\n",
        "get_pvalue(10000, test_f1_BL_original, test_f1_cluster1_org, diff)"
      ],
      "metadata": {
        "colab": {
          "base_uri": "https://localhost:8080/"
        },
        "id": "Oz_vehhCr-YX",
        "outputId": "b3d31e0c-56bf-4061-a204-255f1b2a302d"
      },
      "execution_count": null,
      "outputs": [
        {
          "output_type": "stream",
          "name": "stdout",
          "text": [
            "Since p value 0.0 is less than 0.05 we will reject null hypothesis\n",
            "Since p value 0.0 is less than 0.05 we will reject null hypothesis\n"
          ]
        }
      ]
    },
    {
      "cell_type": "code",
      "source": [
        "# low data imbalance comparison base line Vs custo model\n",
        "diff = test_f1_BL_low.mean() - test_f1_cluster0_low.mean()    #for cluster 0\n",
        "get_pvalue(10000, test_f1_BL_low, test_f1_cluster0_low, diff)\n",
        "\n",
        "diff = test_f1_BL_low.mean() - test_f1_cluster1_low.mean()    #for cluster 1\n",
        "get_pvalue(10000, test_f1_BL_low, test_f1_cluster1_low, diff)"
      ],
      "metadata": {
        "colab": {
          "base_uri": "https://localhost:8080/"
        },
        "id": "FWlt4nBGr-Oj",
        "outputId": "81986509-2d35-439f-eef4-1ff49574d3ea"
      },
      "execution_count": null,
      "outputs": [
        {
          "output_type": "stream",
          "name": "stdout",
          "text": [
            "Since p value 0.0003 is less than 0.05 we will reject null hypothesis\n",
            "Since p value 0.0 is less than 0.05 we will reject null hypothesis\n"
          ]
        }
      ]
    },
    {
      "cell_type": "code",
      "source": [
        "# Medium data imbalance comparison base line Vs custo model\n",
        "diff = test_f1_BL_med.mean() - test_f1_cluster0_med.mean()    #for cluster 0\n",
        "get_pvalue(10000, test_f1_BL_med, test_f1_cluster0_med, diff)\n",
        "\n",
        "diff = test_f1_BL_med.mean() - test_f1_cluster1_med.mean()    #for cluster 1\n",
        "get_pvalue(10000, test_f1_BL_med, test_f1_cluster1_med, diff)"
      ],
      "metadata": {
        "colab": {
          "base_uri": "https://localhost:8080/"
        },
        "id": "220OReT_r-Lf",
        "outputId": "9d14da5d-e91f-4440-b1bf-fcea36efaf66"
      },
      "execution_count": null,
      "outputs": [
        {
          "output_type": "stream",
          "name": "stdout",
          "text": [
            "Since p value 0.008 is less than 0.05 we will reject null hypothesis\n",
            "Since p value 0.0 is less than 0.05 we will reject null hypothesis\n"
          ]
        }
      ]
    },
    {
      "cell_type": "code",
      "source": [
        "# High data imbalance comparison base line Vs custo model\n",
        "diff = test_f1_BL_hig.mean() - test_f1_cluster0_hig.mean()    #for cluster 0\n",
        "get_pvalue(10000, test_f1_BL_hig, test_f1_cluster0_hig, diff)\n",
        "\n",
        "diff = test_f1_BL_hig.mean() - test_f1_cluster1_hig.mean()    #for cluster 1\n",
        "get_pvalue(10000, test_f1_BL_hig, test_f1_cluster1_hig, diff)"
      ],
      "metadata": {
        "colab": {
          "base_uri": "https://localhost:8080/"
        },
        "id": "ZUTCUwk-r-IA",
        "outputId": "49a9817c-0327-4601-d161-3d0159d98053"
      },
      "execution_count": null,
      "outputs": [
        {
          "output_type": "stream",
          "name": "stdout",
          "text": [
            "Since p value 0.7372 is greater than 0.05 we failed to reject null hypothesis\n",
            "Since p value 0.7385 is greater than 0.05 we failed to reject null hypothesis\n"
          ]
        }
      ]
    }
  ],
  "metadata": {
    "kernelspec": {
      "display_name": "Python 3",
      "language": "python",
      "name": "python3"
    },
    "language_info": {
      "codemirror_mode": {
        "name": "ipython",
        "version": 3
      },
      "file_extension": ".py",
      "mimetype": "text/x-python",
      "name": "python",
      "nbconvert_exporter": "python",
      "pygments_lexer": "ipython3",
      "version": "3.8.5"
    },
    "colab": {
      "name": "Heart_Disease_Dataset_220422.ipynb",
      "provenance": [],
      "collapsed_sections": []
    }
  },
  "nbformat": 4,
  "nbformat_minor": 0
}